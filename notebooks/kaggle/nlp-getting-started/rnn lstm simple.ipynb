{
 "cells": [
  {
   "cell_type": "code",
   "execution_count": 1,
   "metadata": {},
   "outputs": [],
   "source": [
    "import random\n",
    "import re\n",
    "import codecs\n",
    "import struct\n",
    "import pprint\n",
    "import collections"
   ]
  },
  {
   "cell_type": "code",
   "execution_count": 2,
   "metadata": {},
   "outputs": [],
   "source": [
    "import pandas as pd\n",
    "import numpy as np\n",
    "import sklearn\n",
    "import nltk\n",
    "import matplotlib.pyplot as plt"
   ]
  },
  {
   "cell_type": "code",
   "execution_count": 3,
   "metadata": {},
   "outputs": [],
   "source": [
    "import torch\n",
    "import torchtext"
   ]
  },
  {
   "cell_type": "code",
   "execution_count": 4,
   "metadata": {},
   "outputs": [],
   "source": [
    "df = pd.read_csv(\"train.csv\")"
   ]
  },
  {
   "cell_type": "code",
   "execution_count": 5,
   "metadata": {},
   "outputs": [
    {
     "data": {
      "text/html": [
       "<div>\n",
       "<style scoped>\n",
       "    .dataframe tbody tr th:only-of-type {\n",
       "        vertical-align: middle;\n",
       "    }\n",
       "\n",
       "    .dataframe tbody tr th {\n",
       "        vertical-align: top;\n",
       "    }\n",
       "\n",
       "    .dataframe thead th {\n",
       "        text-align: right;\n",
       "    }\n",
       "</style>\n",
       "<table border=\"1\" class=\"dataframe\">\n",
       "  <thead>\n",
       "    <tr style=\"text-align: right;\">\n",
       "      <th></th>\n",
       "      <th>id</th>\n",
       "      <th>keyword</th>\n",
       "      <th>location</th>\n",
       "      <th>text</th>\n",
       "      <th>target</th>\n",
       "    </tr>\n",
       "  </thead>\n",
       "  <tbody>\n",
       "    <tr>\n",
       "      <th>2326</th>\n",
       "      <td>3342</td>\n",
       "      <td>demolished</td>\n",
       "      <td>Catalonia, Spain</td>\n",
       "      <td>Demolished My Personal Best  http://t.co/ImULL...</td>\n",
       "      <td>0</td>\n",
       "    </tr>\n",
       "    <tr>\n",
       "      <th>6171</th>\n",
       "      <td>8801</td>\n",
       "      <td>sirens</td>\n",
       "      <td>Nomad, USA</td>\n",
       "      <td>Fuck Sleeping With Sirens.</td>\n",
       "      <td>0</td>\n",
       "    </tr>\n",
       "    <tr>\n",
       "      <th>7226</th>\n",
       "      <td>10348</td>\n",
       "      <td>weapons</td>\n",
       "      <td>NaN</td>\n",
       "      <td>I liked a @YouTube video from @dannyonpc http:...</td>\n",
       "      <td>0</td>\n",
       "    </tr>\n",
       "  </tbody>\n",
       "</table>\n",
       "</div>"
      ],
      "text/plain": [
       "         id     keyword          location  \\\n",
       "2326   3342  demolished  Catalonia, Spain   \n",
       "6171   8801      sirens        Nomad, USA   \n",
       "7226  10348     weapons               NaN   \n",
       "\n",
       "                                                   text  target  \n",
       "2326  Demolished My Personal Best  http://t.co/ImULL...       0  \n",
       "6171                         Fuck Sleeping With Sirens.       0  \n",
       "7226  I liked a @YouTube video from @dannyonpc http:...       0  "
      ]
     },
     "execution_count": 5,
     "metadata": {},
     "output_type": "execute_result"
    }
   ],
   "source": [
    "df.sample(n=3)"
   ]
  },
  {
   "cell_type": "markdown",
   "metadata": {},
   "source": [
    "# Preprocess"
   ]
  },
  {
   "cell_type": "markdown",
   "metadata": {},
   "source": [
    "The data appears messy..."
   ]
  },
  {
   "cell_type": "code",
   "execution_count": 6,
   "metadata": {},
   "outputs": [
    {
     "name": "stdout",
     "output_type": "stream",
     "text": [
      "[...] b' old city of San\\xc2\\x89\\xc3\\x9b\\xc2\\xaaa followin' [...]\n",
      "\n",
      "[...] b'bloody cleav... \\xc2\\x89\\xc3\\x9b\\xc3\\x93 Eh hello!' [...]\n",
      "\n",
      "[...] b'maturu -Over 600\\xc2\\x89\\xc3\\x9b_ http://t.c' [...]\n",
      "\n"
     ]
    }
   ],
   "source": [
    "for t in df.loc[df.text.str.contains(\"\\x89\")].sample(3).itertuples():\n",
    "    i = t.text.index(\"\\x89\")\n",
    "    print(\"[...]\", bytes(t.text, encoding=\"utf8\")[i-16:i+16], \"[...]\")\n",
    "    print()"
   ]
  },
  {
   "cell_type": "code",
   "execution_count": 7,
   "metadata": {},
   "outputs": [],
   "source": [
    "def bad_byte(b):\n",
    "    return \"\\\\x\" in str(b)\n",
    "\n",
    "def find_bad_bytes_seqs(bs):\n",
    "    ongoing = []\n",
    "    bad_bytes = []\n",
    "    for b in struct.unpack(f\"{len(bs)}c\", bs):\n",
    "        if bad_byte(b):\n",
    "            ongoing.append(ord(b))\n",
    "        else:\n",
    "            if ongoing:\n",
    "                bad_bytes.append(bytes(ongoing))\n",
    "                ongoing = []\n",
    "    return bad_bytes"
   ]
  },
  {
   "cell_type": "code",
   "execution_count": 8,
   "metadata": {},
   "outputs": [
    {
     "name": "stdout",
     "output_type": "stream",
     "text": [
      "Counter({b'\\xc2\\x89\\xc3\\x9b': 355,\n",
      "         b'\\xc2\\x89\\xc3\\x9b\\xc2\\xaa': 191,\n",
      "         b'\\xc2\\x89\\xc3\\x9b\\xc3\\x8f': 69,\n",
      "         b'\\xc3\\xa5\\xc3\\x8a': 58,\n",
      "         b'\\xc2\\x89\\xc3\\x9b\\xc3\\xb7': 49,\n",
      "         b'\\xc2\\x89\\xc3\\x9b\\xc2\\x9d': 44,\n",
      "         b'\\xc2\\x89\\xc3\\x9b\\xc3\\x92': 43,\n",
      "         b'\\xc2\\x89\\xc3\\x9b\\xc3\\x93': 34,\n",
      "         b'\\xc2\\x89\\xc3\\x9b\\xc2\\xa2': 34,\n",
      "         b'\\xc3\\x8c\\xc3\\x8f': 20,\n",
      "         b'\\xc3\\x8c': 17,\n",
      "         b'\\xc3\\x8c\\xc2\\xa9': 17,\n",
      "         b'\\xc3\\xa5\\xc2\\xa1': 12,\n",
      "         b'\\xc3\\x8c\\xc2\\xa3': 10,\n",
      "         b'\\xc3\\xa5\\xc2\\xa3': 6,\n",
      "         b'\\xc3\\xa5': 6,\n",
      "         b'\\xc3\\x8c\\xc2\\xbc': 6,\n",
      "         b'\\xc3\\xa5\\xc3\\x88': 6,\n",
      "         b'\\xc3\\xa5\\xc2\\xa8': 6,\n",
      "         b'\\xc3\\x8c\\xc3\\x81': 6,\n",
      "         b'\\xc2\\x89\\xc3\\xa3\\xc2\\xa2': 5,\n",
      "         b'\\xc3\\x8c\\xc2\\xb1': 5,\n",
      "         b'\\xc3\\xa5\\xc3\\xa1': 5,\n",
      "         b'\\xc3\\x8c\\xc3\\x91': 4,\n",
      "         b'\\xc3\\x8c\\xc3\\xbc': 3,\n",
      "         b'\\xc3\\xa5\\xc3\\x87': 3,\n",
      "         b'\\xc3\\x8c\\xc2\\xac': 2,\n",
      "         b'\\xc3\\x8c\\xc2\\xa2': 2,\n",
      "         b'\\xc3\\x8c\\xc2\\xb4': 2,\n",
      "         b'\\xc2\\x89\\xc3\\x9b\\xc2\\xa2\\xc3\\xa5\\xc3\\x8a': 2,\n",
      "         b'\\xc3\\xa5\\xc3\\xb8': 2,\n",
      "         b'\\xc3\\xa5\\xc2\\xab': 2,\n",
      "         b'\\xc3\\x8c\\xc2\\xa6': 2,\n",
      "         b'\\xc3\\xa5\\xc3\\x8a\\xc3\\xa5\\xc3\\x8a': 2,\n",
      "         b'\\xc2\\x89\\xc3\\x9b\\xc2\\xa2\\xc2\\x89\\xc3\\x9b\\xc2\\xa2': 2,\n",
      "         b'\\xc3\\xa5\\xc2\\xa1\\xc3\\xa5\\xc2\\xa1': 2,\n",
      "         b'\\xc3\\x8c\\xc2\\xa4': 2,\n",
      "         b'\\xc2\\x89\\xc3\\x9b\\xc3\\x8a\\xc2\\x89\\xc3\\x9b\\xc3\\x8a\\xc2\\x89\\xc3\\x9b\\xc3\\x8a': 1,\n",
      "         b'\\xc3\\xa5\\xc2\\xa4': 1,\n",
      "         b'\\xc2\\x89\\xc3\\xa2\\xc3\\x82': 1,\n",
      "         b'\\xc3\\x8c\\xc2\\x81': 1,\n",
      "         b'\\xc3\\x8c\\xc3\\xa4': 1,\n",
      "         b'\\xc3\\x8c\\xc3\\xb8\\xc3\\xa5\\xc3\\x80\\xc3\\xa5': 1,\n",
      "         b'\\xc3\\xa5\\xc2\\xac': 1,\n",
      "         b'\\xc3\\xa5\\xc3\\x8a\\xc2\\x89\\xc3\\x9b': 1,\n",
      "         b'\\xc3\\xa5\\xc3\\x8a\\xc2\\x89\\xc3\\x9b\\xc3\\x92': 1,\n",
      "         b'\\xc2\\x81\\xc3\\x8a': 1,\n",
      "         b'\\xc3\\x8c\\xc2\\x90': 1,\n",
      "         b'\\xc3\\x8c\\xc3\\xb7': 1,\n",
      "         b'\\xc3\\x8c\\xc3\\xb8': 1,\n",
      "         b'\\xc3\\x8c\\xc2\\xa1': 1,\n",
      "         b'\\xc3\\xa5\\xc2\\xa9': 1,\n",
      "         b'\\xc2\\x89\\xc3\\x9b\\xc2\\xa2\\xc3\\xa5\\xc2\\xab': 1,\n",
      "         b'\\xc3\\xa5\\xc2\\xbc': 1,\n",
      "         b'\\xc2\\x89\\xc3\\x9b\\xc3\\x92\\xc3\\xa5\\xc3\\x8a': 1})\n"
     ]
    }
   ],
   "source": [
    "badies = []\n",
    "with open(\"train.csv\", \"rb\") as f:\n",
    "    for line in f:\n",
    "        badies.extend(find_bad_bytes_seqs(line))\n",
    "counter_bad = collections.Counter(badies)\n",
    "pprint.pprint(counter_bad)"
   ]
  },
  {
   "cell_type": "code",
   "execution_count": 9,
   "metadata": {},
   "outputs": [
    {
     "name": "stdout",
     "output_type": "stream",
     "text": [
      "b'ey\\xc2\\x89\\xc3\\x9b\\xc2\\xaas stock \\xc2\\x89\\xc3\\x9b\\xc3\\x92\\xc3\\xa5\\xc3\\x8aCNBC http://t.co'\n"
     ]
    }
   ],
   "source": [
    "subb = b\"\\xc2\\x89\\xc3\\x9b\\xc3\\x92\\xc3\\xa5\\xc3\\x8a\"\n",
    "for t in df.text:\n",
    "    t_bytes = bytes(t, \"utf8\")\n",
    "    idx = t_bytes.find(subb)\n",
    "    if idx > -1:\n",
    "        print(t_bytes[idx-16: idx + len(subb) + 16])"
   ]
  },
  {
   "cell_type": "markdown",
   "metadata": {},
   "source": [
    "for now, let's remove those chars"
   ]
  },
  {
   "cell_type": "code",
   "execution_count": 10,
   "metadata": {},
   "outputs": [],
   "source": [
    "ordered_badies = sorted(counter_bad, key=len, reverse=True)"
   ]
  },
  {
   "cell_type": "code",
   "execution_count": 11,
   "metadata": {},
   "outputs": [],
   "source": [
    "def rm_badies(s):\n",
    "    s_bytes = bytes(s, \"utf8\")\n",
    "    for badie in ordered_badies:\n",
    "        while(badie in s_bytes):\n",
    "            s_bytes = s_bytes.replace(badie, b\" \")\n",
    "    return s_bytes.decode(\"utf8\")"
   ]
  },
  {
   "cell_type": "code",
   "execution_count": 12,
   "metadata": {},
   "outputs": [
    {
     "data": {
      "text/plain": [
       "'ey s stock  CNBC http://t.co'"
      ]
     },
     "execution_count": 12,
     "metadata": {},
     "output_type": "execute_result"
    }
   ],
   "source": [
    "rm_badies(b'ey\\xc2\\x89\\xc3\\x9b\\xc2\\xaas stock \\xc2\\x89\\xc3\\x9b\\xc3\\x92\\xc3\\xa5\\xc3\\x8aCNBC http://t.co'.decode(\"utf8\"))"
   ]
  },
  {
   "cell_type": "code",
   "execution_count": 13,
   "metadata": {},
   "outputs": [],
   "source": [
    "df_text_cleaned = df.text.apply(rm_badies)\n",
    "diffs = df_text_cleaned != df.text"
   ]
  },
  {
   "cell_type": "code",
   "execution_count": 14,
   "metadata": {},
   "outputs": [
    {
     "name": "stdout",
     "output_type": "stream",
     "text": [
      "I Will Survive by Gloria Gaynor (with Oktaviana Devi) ÛÓ https://t.co/HUkJZ1wT36\n",
      "I Will Survive by Gloria Gaynor (with Oktaviana Devi)   https://t.co/HUkJZ1wT36\n",
      "\n",
      "New Ladies Shoulder Tote Handbag Faux Leather Hobo Purse Cross Body Bag Womens - Full readÛ_ http://t.co/4FXfllRIen http://t.co/i12NLSr8Fk\n",
      "New Ladies Shoulder Tote Handbag Faux Leather Hobo Purse Cross Body Bag Womens - Full read _ http://t.co/4FXfllRIen http://t.co/i12NLSr8Fk\n",
      "\n",
      "2pcs 18W CREE Led Work Light  Offroad Lamp Car Truck Boat Mining 4WD FLOOD BEAM - Full reaÛ_ http://t.co/VDeFmulx43 http://t.co/yqpAIjSa5g\n",
      "2pcs 18W CREE Led Work Light  Offroad Lamp Car Truck Boat Mining 4WD FLOOD BEAM - Full rea _ http://t.co/VDeFmulx43 http://t.co/yqpAIjSa5g\n",
      "\n",
      "Rly tragedy in MP: Some live to recount horror: ÛÏWhen I saw coaches of my train plunging into water I called ... http://t.co/ZkgQSpwYj3\n",
      "Rly tragedy in MP: Some live to recount horror:  When I saw coaches of my train plunging into water I called ... http://t.co/ZkgQSpwYj3\n",
      "\n",
      "Reddit Will Now Quarantine OffensiveåÊContent https://t.co/MjbIUvbMo6 http://t.co/I5cdTD8ftj\n",
      "Reddit Will Now Quarantine Offensive Content https://t.co/MjbIUvbMo6 http://t.co/I5cdTD8ftj\n",
      "\n"
     ]
    }
   ],
   "source": [
    "for old, new in random.sample(list(zip(df.text[diffs], df_text_cleaned[diffs])), 5):\n",
    "    print(old)\n",
    "    print(new)\n",
    "    print()"
   ]
  },
  {
   "cell_type": "code",
   "execution_count": 15,
   "metadata": {},
   "outputs": [],
   "source": [
    "df.text = df_text_cleaned"
   ]
  },
  {
   "cell_type": "code",
   "execution_count": 16,
   "metadata": {},
   "outputs": [],
   "source": [
    "df.to_csv(\"train_preprocessed.csv\", index=False, encoding=\"utf8\")"
   ]
  },
  {
   "cell_type": "markdown",
   "metadata": {},
   "source": [
    "# Load"
   ]
  },
  {
   "cell_type": "code",
   "execution_count": 17,
   "metadata": {},
   "outputs": [],
   "source": [
    "DEVICE = torch.device(\"cuda\")"
   ]
  },
  {
   "cell_type": "code",
   "execution_count": 18,
   "metadata": {},
   "outputs": [],
   "source": [
    "tokenizer = nltk.tokenize.TweetTokenizer()"
   ]
  },
  {
   "cell_type": "code",
   "execution_count": 19,
   "metadata": {},
   "outputs": [],
   "source": [
    "def _replace(word):\n",
    "    if word.startswith(\"http\"):\n",
    "        return \"<LINK>\"\n",
    "    if word.startswith(\"@\"):\n",
    "        return \"<@>\"\n",
    "    if word.startswith(\"#\"):\n",
    "        return \"<#>\"\n",
    "    return word\n",
    "\n",
    "\n",
    "def tokenize(sentence):\n",
    "    tokens = tokenizer.tokenize(sentence)\n",
    "    return list(map(_replace, tokens))"
   ]
  },
  {
   "cell_type": "code",
   "execution_count": 20,
   "metadata": {},
   "outputs": [
    {
     "name": "stdout",
     "output_type": "stream",
     "text": [
      "0 : God the @mets are so cocky right now and I love it. Uribe OBLITERATED that ball then strutted the fuck out of the batters box...\n",
      "['God', 'the', '<@>', 'are', 'so', 'cocky', 'right', 'now', 'and', 'I', 'love', 'it', '.', 'Uribe', 'OBLITERATED', 'that', 'ball', 'then', 'strutted', 'the', 'fuck', 'out', 'of', 'the', 'batters', 'box', '...']\n",
      "0 : Dr. Jim &amp; the tsunami: The latest New Yorker warned us in no uncertain terms. Haven't you heard? The tsunami's... http://t.co/1RrEO2jG9u\n",
      "['Dr', '.', 'Jim', '&', 'the', 'tsunami', ':', 'The', 'latest', 'New', 'Yorker', 'warned', 'us', 'in', 'no', 'uncertain', 'terms', '.', \"Haven't\", 'you', 'heard', '?', 'The', \"tsunami's\", '...', '<LINK>']\n",
      "0 : [News Update] | Enugu Government to demolish illegal structures at International Conference Centre http://t.co/xcGzc45gys |Via Daily Post\n",
      "['[', 'News', 'Update', ']', '|', 'Enugu', 'Government', 'to', 'demolish', 'illegal', 'structures', 'at', 'International', 'Conference', 'Centre', '<LINK>', '|', 'Via', 'Daily', 'Post']\n",
      "0 : #hot  Funtenna: hijacking computers to send data as sound waves [Black Hat 2015] http://t.co/G62txymzBv #prebreak #best\n",
      "['<#>', 'Funtenna', ':', 'hijacking', 'computers', 'to', 'send', 'data', 'as', 'sound', 'waves', '[', 'Black', 'Hat', '2015', ']', '<LINK>', '<#>', '<#>']\n",
      "0 : #golf McIlroy fuels PGA speculation after video: Injured world number one Rory McIlroy fueled speculatio... http://t.co/dCyYJVmXHR #news\n",
      "['<#>', 'McIlroy', 'fuels', 'PGA', 'speculation', 'after', 'video', ':', 'Injured', 'world', 'number', 'one', 'Rory', 'McIlroy', 'fueled', 'speculatio', '...', '<LINK>', '<#>']\n"
     ]
    }
   ],
   "source": [
    "for t in df.sample(5).itertuples():\n",
    "    print(t.target, \":\", t.text)\n",
    "    print(tokenize(t.text))"
   ]
  },
  {
   "cell_type": "code",
   "execution_count": 21,
   "metadata": {},
   "outputs": [],
   "source": [
    "TEXT = torchtext.data.Field(tokenize = tokenize,\n",
    "                            include_lengths=True)\n",
    "TARGET = torchtext.data.LabelField(dtype=torch.float)"
   ]
  },
  {
   "cell_type": "code",
   "execution_count": 22,
   "metadata": {},
   "outputs": [],
   "source": [
    "dataset = torchtext.data.TabularDataset(\"train_preprocessed.csv\",\n",
    "                                        format=\"csv\",\n",
    "                                        fields={\"text\": (\"input\", TEXT), \"target\": (\"target\", TARGET)})"
   ]
  },
  {
   "cell_type": "code",
   "execution_count": 23,
   "metadata": {},
   "outputs": [],
   "source": [
    "data_train, data_valid = dataset.split(split_ratio=0.8)"
   ]
  },
  {
   "cell_type": "code",
   "execution_count": 162,
   "metadata": {},
   "outputs": [],
   "source": [
    "def generate_examples_from(example):\n",
    "    forgettables = [\"<LINK>\", \"<#>\"]\n",
    "    _input, _target = example.input, example.target\n",
    "    close = []\n",
    "    for idx, elt in enumerate(_input):\n",
    "        if elt in forgettables:\n",
    "            close.append(_input[:idx] + _input[idx+1:])\n",
    "    return [torchtext.data.example.Example.fromlist(data=[inp, _target],\n",
    "                                                    fields=[(\"input\", TEXT), (\"target\", TARGET)])\n",
    "            for inp in close]"
   ]
  },
  {
   "cell_type": "code",
   "execution_count": 165,
   "metadata": {},
   "outputs": [],
   "source": [
    "generated_examples = []\n",
    "for example in data_train:\n",
    "    generated_examples.extend(generate_close_examples(example))"
   ]
  },
  {
   "cell_type": "code",
   "execution_count": 169,
   "metadata": {},
   "outputs": [],
   "source": [
    "data_train.examples.extend(generated_examples)"
   ]
  },
  {
   "cell_type": "code",
   "execution_count": 170,
   "metadata": {},
   "outputs": [],
   "source": [
    "VOCAB_MAX_SIZE = 20000\n",
    "TEXT.build_vocab(data_train, max_size=VOCAB_MAX_SIZE, vectors=\"glove.twitter.27B.100d\")"
   ]
  },
  {
   "cell_type": "code",
   "execution_count": 171,
   "metadata": {},
   "outputs": [
    {
     "data": {
      "text/plain": [
       "defaultdict(None, {'0': 0, '1': 1})"
      ]
     },
     "execution_count": 171,
     "metadata": {},
     "output_type": "execute_result"
    }
   ],
   "source": [
    "TARGET.build_vocab(data_train)\n",
    "TARGET.vocab.stoi"
   ]
  },
  {
   "cell_type": "code",
   "execution_count": 172,
   "metadata": {},
   "outputs": [],
   "source": [
    "BATCH_SIZE = 256\n",
    "iter_train, iter_valid = \\\n",
    "    torchtext.data.BucketIterator.splits(datasets=(data_train, data_valid),\n",
    "                                         batch_size=BATCH_SIZE,\n",
    "                                         device=DEVICE,\n",
    "                                         sort_within_batch=True,\n",
    "                                         sort_key=lambda example: len(example.input),\n",
    "                                         sort=False)"
   ]
  },
  {
   "cell_type": "markdown",
   "metadata": {},
   "source": [
    "# Model"
   ]
  },
  {
   "cell_type": "code",
   "execution_count": 27,
   "metadata": {},
   "outputs": [],
   "source": [
    "class RNN(torch.nn.Module):\n",
    "    def __init__(self, n_vocab, embedding_dim, hidden_dim, output_dim, dropout, bidirectional,\n",
    "                 n_layers, pad_idx):\n",
    "        super().__init__()\n",
    "        self.embedding_dim = embedding_dim\n",
    "        self.bidirectional = bidirectional\n",
    "        num_dir = 2 if bidirectional else 1\n",
    "        self.embedding = torch.nn.Embedding(n_vocab, embedding_dim, padding_idx=pad_idx)\n",
    "        self.rnn = torch.nn.LSTM(embedding_dim,\n",
    "                                 hidden_dim,\n",
    "                                 bidirectional=bidirectional,\n",
    "                                 num_layers=n_layers,\n",
    "                                 dropout=dropout)\n",
    "        self.fc = torch.nn.Linear(hidden_dim * num_dir, output_dim)\n",
    "        self.dropout = torch.nn.Dropout(dropout)\n",
    "        self.sigmoid = torch.nn.Sigmoid()\n",
    "        \n",
    "    def forward(self, input_lengths):\n",
    "        input, lengths = input_lengths\n",
    "        torch.nn.utils.rnn.pack_padded_sequence(input, lengths)\n",
    "        embedded = self.embedding(input)  # ((sent_len, batch), emb_dim)\n",
    "        packed_output, (hidden, cell) = self.rnn(embedded)  # hidden: (num_layers * num_directions,\n",
    "                                                            #          batch, hidden_size * num_directions)\n",
    "        hidden = (torch.cat([hidden[-2, :, :], hidden[-1, :, :]], dim=1)\n",
    "                  if self.bidirectional else hidden[-1, :, :]).squeeze(0)  # (batch, hidden_size * num_directions)\n",
    "        return self.sigmoid(self.fc(self.dropout(hidden)))  # (batch, 1)"
   ]
  },
  {
   "cell_type": "code",
   "execution_count": 28,
   "metadata": {},
   "outputs": [],
   "source": [
    "PAD_IDX = TEXT.vocab.stoi[TEXT.pad_token]\n",
    "UNK_IDX = TEXT.vocab.stoi[TEXT.unk_token]\n",
    "N_VOCAB = len(TEXT.vocab)"
   ]
  },
  {
   "cell_type": "code",
   "execution_count": 29,
   "metadata": {},
   "outputs": [
    {
     "data": {
      "text/plain": [
       "15996"
      ]
     },
     "execution_count": 29,
     "metadata": {},
     "output_type": "execute_result"
    }
   ],
   "source": [
    "N_VOCAB"
   ]
  },
  {
   "cell_type": "code",
   "execution_count": 30,
   "metadata": {},
   "outputs": [],
   "source": [
    "DEFAULT_PARAMS = {\n",
    "    \"n_vocab\": N_VOCAB,\n",
    "    \"embedding_dim\": 100,\n",
    "    \"hidden_dim\": 256,\n",
    "    \"output_dim\": 1,\n",
    "    \"dropout\": 0.5,\n",
    "    \"bidirectional\": True,\n",
    "    \"n_layers\": 2,\n",
    "    \"pad_idx\": PAD_IDX,\n",
    "}\n",
    "\n",
    "def default_model(**kwargs):\n",
    "    _d = {}\n",
    "    _d.update(DEFAULT_PARAMS)\n",
    "    _d.update(kwargs)\n",
    "    return RNN(**_d)"
   ]
  },
  {
   "cell_type": "code",
   "execution_count": 31,
   "metadata": {},
   "outputs": [],
   "source": [
    "def pseudo_init(model, criterion, device=DEVICE, learn_embedding_param=True):\n",
    "    model.embedding.weight.data.copy_(TEXT.vocab.vectors)\n",
    "    model.embedding.weight.data[UNK_IDX] = torch.zeros(model.embedding_dim)\n",
    "    model.embedding.weight.data[PAD_IDX] = torch.zeros(model.embedding_dim)\n",
    "    \n",
    "    for name, param in model.named_parameters():\n",
    "        if name == \"embedding.weight\":\n",
    "            param.requires_grad = learn_embedding_param\n",
    "    \n",
    "    print(\"The model has {:,} trainable parameters\"\n",
    "         .format(sum(p.numel() for p in model.parameters() if p.requires_grad)))\n",
    "    \n",
    "    model = model.to(device)\n",
    "    criterion = criterion.to(device)\n",
    "    \n",
    "    return model, criterion"
   ]
  },
  {
   "cell_type": "code",
   "execution_count": 32,
   "metadata": {},
   "outputs": [],
   "source": [
    "def output_to_pred(output):\n",
    "    return torch.round(output)\n",
    "\n",
    "\n",
    "def accuracy(output, trues):\n",
    "    results = (output_to_pred(output) == trues).float()\n",
    "    return (results.sum() / len(results))\n",
    "\n",
    "\n",
    "def f1_score(preds, trues):\n",
    "    return sklearn.metrics.f1_score(trues, preds)\n",
    "\n",
    "def output_f1_score(output, trues):\n",
    "    return sklearn.metrics.f1_score(trues.cpu().detach().numpy(), output_to_pred(output).cpu().detach().numpy())"
   ]
  },
  {
   "cell_type": "markdown",
   "metadata": {},
   "source": [
    "# Train"
   ]
  },
  {
   "cell_type": "code",
   "execution_count": 33,
   "metadata": {},
   "outputs": [],
   "source": [
    "from nntraining.pytorch.supervised import do_training, Measurer, is_max_of"
   ]
  },
  {
   "cell_type": "code",
   "execution_count": 34,
   "metadata": {},
   "outputs": [],
   "source": [
    "def save_model(model, path):\n",
    "    torch.save(model.state_dict(), path)\n",
    "\n",
    "def load_model(model, path, device=DEVICE):\n",
    "    model.load_state_dict(torch.load(path))\n",
    "    model.to(device)\n",
    "    return model"
   ]
  },
  {
   "cell_type": "code",
   "execution_count": 35,
   "metadata": {},
   "outputs": [],
   "source": [
    "class SingleAvgMeasurer(Measurer):\n",
    "    def __init__(self, fun_measure, measure_name):\n",
    "        super().__init__()\n",
    "        self.fun_measure = fun_measure\n",
    "        self.measure_name = measure_name\n",
    "        self.sum_measures = 0\n",
    "        self._count = 0\n",
    "        \n",
    "    def update(self, batch, get_input, get_target, batch_output, batch_loss):\n",
    "        self.sum_measures += self.fun_measure(batch_output, get_target(batch))\n",
    "        self._count += 1\n",
    "    \n",
    "    def to_dict(self):\n",
    "        return {self.measure_name: self.sum_measures / self._count}\n",
    "\n",
    "def print_status(epoch, n_epochs, train_measures, valid_measures, is_best, duration):\n",
    "    print(\"Epoch: {e:.<{max_len}}. T, V f1: {train:.1f}, {valid:.1f}. Took {t:.2f}s.{best}\"\n",
    "          .format(e=epoch + 1,\n",
    "                  max_len=len(str(n_epochs)),\n",
    "                  train=100 * train_measures[\"f1 score\"],\n",
    "                  valid=100 * valid_measures[\"f1 score\"],\n",
    "                  t=duration,\n",
    "                  best=\" (+)\" if is_best else \"\"))"
   ]
  },
  {
   "cell_type": "code",
   "execution_count": 184,
   "metadata": {},
   "outputs": [],
   "source": [
    "model = default_model(hidden_dim=128, dropout=0.7)"
   ]
  },
  {
   "cell_type": "code",
   "execution_count": 185,
   "metadata": {},
   "outputs": [
    {
     "name": "stdout",
     "output_type": "stream",
     "text": [
      "The model has 2,230,641 trainable parameters\n"
     ]
    }
   ],
   "source": [
    "model, criterion = pseudo_init(model, torch.nn.MSELoss())"
   ]
  },
  {
   "cell_type": "code",
   "execution_count": 186,
   "metadata": {},
   "outputs": [],
   "source": [
    "optimizer = torch.optim.Adam(model.parameters())"
   ]
  },
  {
   "cell_type": "code",
   "execution_count": 187,
   "metadata": {},
   "outputs": [
    {
     "name": "stdout",
     "output_type": "stream",
     "text": [
      "Starting training: 50 epochs.\n",
      "Epoch: 1.. T, V f1: 54.6, 60.1. Took 0.92s. (+)\n",
      "Epoch: 2.. T, V f1: 79.0, 60.7. Took 0.90s. (+)\n",
      "Epoch: 3.. T, V f1: 86.2, 65.4. Took 0.90s. (+)\n",
      "Epoch: 4.. T, V f1: 90.6, 59.3. Took 0.90s.\n",
      "Epoch: 5.. T, V f1: 92.6, 61.0. Took 0.89s.\n",
      "Epoch: 6.. T, V f1: 92.2, 70.1. Took 0.88s. (+)\n",
      "Epoch: 7.. T, V f1: 94.9, 57.4. Took 0.89s.\n",
      "Epoch: 8.. T, V f1: 95.6, 53.7. Took 0.90s.\n",
      "Epoch: 9.. T, V f1: 96.3, 65.8. Took 0.91s.\n",
      "Epoch: 10. T, V f1: 96.5, 53.7. Took 0.85s.\n",
      "Epoch: 11. T, V f1: 97.1, 57.1. Took 0.87s.\n",
      "Epoch: 12. T, V f1: 97.1, 64.5. Took 0.87s.\n",
      "Epoch: 13. T, V f1: 97.2, 67.1. Took 0.88s.\n",
      "Epoch: 14. T, V f1: 97.2, 64.1. Took 0.87s.\n",
      "Epoch: 15. T, V f1: 97.4, 66.7. Took 0.86s.\n",
      "Epoch: 16. T, V f1: 97.5, 62.2. Took 0.88s.\n",
      "Epoch: 17. T, V f1: 97.4, 61.8. Took 0.88s.\n",
      "Epoch: 18. T, V f1: 97.5, 67.9. Took 0.88s.\n",
      "Epoch: 19. T, V f1: 96.9, 68.2. Took 0.88s.\n",
      "Epoch: 20. T, V f1: 97.5, 57.5. Took 0.91s.\n",
      "Epoch: 21. T, V f1: 97.6, 57.7. Took 0.88s.\n",
      "Epoch: 22. T, V f1: 97.5, 66.3. Took 0.89s.\n",
      "Epoch: 23. T, V f1: 97.8, 56.3. Took 0.88s.\n",
      "Epoch: 24. T, V f1: 97.5, 64.9. Took 0.88s.\n",
      "Epoch: 25. T, V f1: 97.8, 67.4. Took 0.88s.\n",
      "Epoch: 26. T, V f1: 97.8, 64.6. Took 0.91s.\n",
      "Epoch: 27. T, V f1: 97.8, 68.5. Took 0.87s.\n",
      "Epoch: 28. T, V f1: 97.8, 69.6. Took 0.90s.\n",
      "Epoch: 29. T, V f1: 97.8, 69.6. Took 0.91s.\n",
      "Epoch: 30. T, V f1: 97.8, 69.4. Took 0.88s.\n",
      "Epoch: 31. T, V f1: 98.0, 68.6. Took 0.81s.\n",
      "Epoch: 32. T, V f1: 97.9, 69.6. Took 0.88s.\n",
      "Epoch: 33. T, V f1: 98.0, 71.2. Took 0.90s. (+)\n",
      "Epoch: 34. T, V f1: 98.0, 71.2. Took 0.90s.\n",
      "Epoch: 35. T, V f1: 98.0, 68.2. Took 0.87s.\n",
      "Epoch: 36. T, V f1: 98.0, 71.5. Took 0.87s. (+)\n",
      "Epoch: 37. T, V f1: 96.9, 47.6. Took 0.88s.\n",
      "Epoch: 38. T, V f1: 97.3, 52.6. Took 0.88s.\n",
      "Epoch: 39. T, V f1: 97.7, 52.6. Took 0.87s.\n",
      "Epoch: 40. T, V f1: 97.8, 60.9. Took 0.89s.\n",
      "Epoch: 41. T, V f1: 97.9, 56.3. Took 0.90s.\n",
      "Epoch: 42. T, V f1: 97.8, 55.9. Took 0.86s.\n",
      "Epoch: 43. T, V f1: 97.9, 63.7. Took 0.88s.\n",
      "Epoch: 44. T, V f1: 97.8, 55.1. Took 0.90s.\n",
      "Epoch: 45. T, V f1: 98.0, 55.5. Took 0.87s.\n",
      "Epoch: 46. T, V f1: 98.0, 55.1. Took 0.93s.\n",
      "Epoch: 47. T, V f1: 97.8, 50.0. Took 0.88s.\n",
      "Epoch: 48. T, V f1: 98.0, 54.7. Took 0.87s.\n",
      "Epoch: 49. T, V f1: 97.9, 53.3. Took 0.89s.\n",
      "Epoch: 50. T, V f1: 97.9, 51.1. Took 0.90s.\n",
      "Trained first, 50 epochs, for: 44.41s\n"
     ]
    }
   ],
   "source": [
    "training_info = do_training(model=model,\n",
    "                            name=\"first\",\n",
    "                            iter_train=iter_train,\n",
    "                            iter_valid=iter_valid,\n",
    "                            optimizer=optimizer,\n",
    "                            criterion=criterion,\n",
    "                            n_epochs=50,\n",
    "                            measurer_getter=SingleAvgMeasurer.getter(fun_measure=output_f1_score,\n",
    "                                                                     measure_name=\"f1 score\"),\n",
    "                            fun_save=lambda model: save_model(model, \"model.pt\"),\n",
    "                            fun_is_best=is_max_of(\"f1 score\"),\n",
    "                            fun_print_status=print_status \n",
    "                           )"
   ]
  },
  {
   "cell_type": "code",
   "execution_count": 189,
   "metadata": {},
   "outputs": [
    {
     "data": {
      "image/png": "[encoded data removed]",
      "text/plain": [
       "<Figure size 432x288 with 1 Axes>"
      ]
     },
     "metadata": {
      "needs_background": "light"
     },
     "output_type": "display_data"
    }
   ],
   "source": [
    "fig, ax = plt.subplots()\n",
    "ax.plot(list(range(len(training_info.valid[\"f1 score\"]))), training_info.valid[\"f1 score\"], label=\"valid\")\n",
    "ax.plot(list(range(len(training_info.train[\"f1 score\"]))), training_info.train[\"f1 score\"], label=\"train\")\n",
    "plt.show()"
   ]
  },
  {
   "cell_type": "markdown",
   "metadata": {},
   "source": [
    "# Predict"
   ]
  },
  {
   "cell_type": "code",
   "execution_count": 41,
   "metadata": {},
   "outputs": [],
   "source": [
    "model_king = load_model(model, \"model.pt\")"
   ]
  },
  {
   "cell_type": "code",
   "execution_count": 42,
   "metadata": {},
   "outputs": [],
   "source": [
    "from nntraining.pytorch.text import Predictor"
   ]
  },
  {
   "cell_type": "code",
   "execution_count": 43,
   "metadata": {},
   "outputs": [],
   "source": [
    "predictor = Predictor(model, TEXT.vocab.stoi, tokenize)"
   ]
  },
  {
   "cell_type": "code",
   "execution_count": 44,
   "metadata": {},
   "outputs": [],
   "source": [
    "df_test = pd.read_csv(\"test.csv\").set_index(\"id\")"
   ]
  },
  {
   "cell_type": "code",
   "execution_count": 45,
   "metadata": {},
   "outputs": [
    {
     "data": {
      "text/html": [
       "<div>\n",
       "<style scoped>\n",
       "    .dataframe tbody tr th:only-of-type {\n",
       "        vertical-align: middle;\n",
       "    }\n",
       "\n",
       "    .dataframe tbody tr th {\n",
       "        vertical-align: top;\n",
       "    }\n",
       "\n",
       "    .dataframe thead th {\n",
       "        text-align: right;\n",
       "    }\n",
       "</style>\n",
       "<table border=\"1\" class=\"dataframe\">\n",
       "  <thead>\n",
       "    <tr style=\"text-align: right;\">\n",
       "      <th></th>\n",
       "      <th>keyword</th>\n",
       "      <th>location</th>\n",
       "      <th>text</th>\n",
       "    </tr>\n",
       "    <tr>\n",
       "      <th>id</th>\n",
       "      <th></th>\n",
       "      <th></th>\n",
       "      <th></th>\n",
       "    </tr>\n",
       "  </thead>\n",
       "  <tbody>\n",
       "    <tr>\n",
       "      <th>5718</th>\n",
       "      <td>forest%20fire</td>\n",
       "      <td>Oregon, USA</td>\n",
       "      <td>Grass fire near Forest Grove contained. Sparke...</td>\n",
       "    </tr>\n",
       "    <tr>\n",
       "      <th>10095</th>\n",
       "      <td>typhoon</td>\n",
       "      <td>NaN</td>\n",
       "      <td>#WorldNews #World\\n Saipan Has No Water Electr...</td>\n",
       "    </tr>\n",
       "    <tr>\n",
       "      <th>2705</th>\n",
       "      <td>crushed</td>\n",
       "      <td>Lawn, PA</td>\n",
       "      <td>So my Neptunia girls are all nearly level 150 ...</td>\n",
       "    </tr>\n",
       "  </tbody>\n",
       "</table>\n",
       "</div>"
      ],
      "text/plain": [
       "             keyword     location  \\\n",
       "id                                  \n",
       "5718   forest%20fire  Oregon, USA   \n",
       "10095        typhoon          NaN   \n",
       "2705         crushed     Lawn, PA   \n",
       "\n",
       "                                                    text  \n",
       "id                                                        \n",
       "5718   Grass fire near Forest Grove contained. Sparke...  \n",
       "10095  #WorldNews #World\\n Saipan Has No Water Electr...  \n",
       "2705   So my Neptunia girls are all nearly level 150 ...  "
      ]
     },
     "execution_count": 45,
     "metadata": {},
     "output_type": "execute_result"
    }
   ],
   "source": [
    "df_test.sample(3)"
   ]
  },
  {
   "cell_type": "code",
   "execution_count": 46,
   "metadata": {},
   "outputs": [],
   "source": [
    "df_test[\"target\"] = df_test.text.apply(lambda sentence: int(np.round(predictor.predict(rm_badies(sentence)))))"
   ]
  },
  {
   "cell_type": "code",
   "execution_count": 47,
   "metadata": {},
   "outputs": [
    {
     "data": {
      "text/html": [
       "<div>\n",
       "<style scoped>\n",
       "    .dataframe tbody tr th:only-of-type {\n",
       "        vertical-align: middle;\n",
       "    }\n",
       "\n",
       "    .dataframe tbody tr th {\n",
       "        vertical-align: top;\n",
       "    }\n",
       "\n",
       "    .dataframe thead th {\n",
       "        text-align: right;\n",
       "    }\n",
       "</style>\n",
       "<table border=\"1\" class=\"dataframe\">\n",
       "  <thead>\n",
       "    <tr style=\"text-align: right;\">\n",
       "      <th></th>\n",
       "      <th>keyword</th>\n",
       "      <th>location</th>\n",
       "      <th>text</th>\n",
       "      <th>target</th>\n",
       "    </tr>\n",
       "    <tr>\n",
       "      <th>id</th>\n",
       "      <th></th>\n",
       "      <th></th>\n",
       "      <th></th>\n",
       "      <th></th>\n",
       "    </tr>\n",
       "  </thead>\n",
       "  <tbody>\n",
       "    <tr>\n",
       "      <th>827</th>\n",
       "      <td>battle</td>\n",
       "      <td>Australia</td>\n",
       "      <td>#LonePine remembered around Australia as 'desc...</td>\n",
       "      <td>0</td>\n",
       "    </tr>\n",
       "    <tr>\n",
       "      <th>1785</th>\n",
       "      <td>buildings%20on%20fire</td>\n",
       "      <td>Fallen TX</td>\n",
       "      <td>It's a testimony to the human spirit that more...</td>\n",
       "      <td>1</td>\n",
       "    </tr>\n",
       "    <tr>\n",
       "      <th>8492</th>\n",
       "      <td>screaming</td>\n",
       "      <td>NaN</td>\n",
       "      <td>@camilacabello97 screaming internally and exte...</td>\n",
       "      <td>0</td>\n",
       "    </tr>\n",
       "  </tbody>\n",
       "</table>\n",
       "</div>"
      ],
      "text/plain": [
       "                    keyword   location  \\\n",
       "id                                       \n",
       "827                  battle  Australia   \n",
       "1785  buildings%20on%20fire  Fallen TX   \n",
       "8492              screaming        NaN   \n",
       "\n",
       "                                                   text  target  \n",
       "id                                                               \n",
       "827   #LonePine remembered around Australia as 'desc...       0  \n",
       "1785  It's a testimony to the human spirit that more...       1  \n",
       "8492  @camilacabello97 screaming internally and exte...       0  "
      ]
     },
     "execution_count": 47,
     "metadata": {},
     "output_type": "execute_result"
    }
   ],
   "source": [
    "df_test.sample(3)"
   ]
  },
  {
   "cell_type": "code",
   "execution_count": 48,
   "metadata": {},
   "outputs": [],
   "source": [
    "df_test[[\"target\"]].to_csv(\"submission.csv\")"
   ]
  }
 ],
 "metadata": {
  "kernelspec": {
   "display_name": "Python 3",
   "language": "python",
   "name": "python3"
  },
  "language_info": {
   "codemirror_mode": {
    "name": "ipython",
    "version": 3
   },
   "file_extension": ".py",
   "mimetype": "text/x-python",
   "name": "python",
   "nbconvert_exporter": "python",
   "pygments_lexer": "ipython3",
   "version": "3.7.3"
  }
 },
 "nbformat": 4,
 "nbformat_minor": 4
}
