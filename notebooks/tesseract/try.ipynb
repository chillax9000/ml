{
 "cells": [
  {
   "cell_type": "code",
   "execution_count": 1,
   "metadata": {},
   "outputs": [],
   "source": [
    "try:\n",
    "    from PIL import Image\n",
    "except ImportError:\n",
    "    import Image\n",
    "import pytesseract"
   ]
  },
  {
   "cell_type": "code",
   "execution_count": 2,
   "metadata": {},
   "outputs": [],
   "source": [
    "import subprocess"
   ]
  },
  {
   "cell_type": "code",
   "execution_count": 11,
   "metadata": {},
   "outputs": [
    {
     "name": "stdout",
     "output_type": "stream",
     "text": [
      "tesseract 4.0.0\n",
      " leptonica-1.76.0\n",
      "  libgif 5.1.4 : libjpeg 6b (libjpeg-turbo 1.5.2) : libpng 1.6.36 : libtiff 4.1.0 : zlib 1.2.11 : libwebp 0.6.1 : libopenjp2 2.3.0\n",
      " Found AVX2\n",
      " Found AVX\n",
      " Found SSE\n",
      "\n"
     ]
    }
   ],
   "source": [
    "print(subprocess.check_output([\"tesseract\", \"--version\"]).decode(\"utf8\"))"
   ]
  },
  {
   "cell_type": "code",
   "execution_count": 12,
   "metadata": {},
   "outputs": [],
   "source": [
    "img = Image.open(\"text.png\")"
   ]
  },
  {
   "cell_type": "code",
   "execution_count": 13,
   "metadata": {},
   "outputs": [
    {
     "data": {
      "image/png": "[encoded data removed]",
      "text/plain": [
       "<PIL.PngImagePlugin.PngImageFile image mode=RGB size=703x141 at 0x7F55E9732B70>"
      ]
     },
     "execution_count": 13,
     "metadata": {},
     "output_type": "execute_result"
    }
   ],
   "source": [
    "img"
   ]
  },
  {
   "cell_type": "code",
   "execution_count": 15,
   "metadata": {},
   "outputs": [
    {
     "name": "stdout",
     "output_type": "stream",
     "text": [
      " \n",
      "\n",
      "from PIL import Image\n",
      "\n",
      "except Importerror:\n",
      "import Image\n",
      "\n",
      "import pytesseract\n",
      "\n",
      "# If you don't have tesseract executable in your PATH, include the following\n",
      "\f",
      "\n"
     ]
    }
   ],
   "source": [
    "print(pytesseract.image_to_string(img))"
   ]
  },
  {
   "cell_type": "code",
   "execution_count": 17,
   "metadata": {},
   "outputs": [
    {
     "name": "stdout",
     "output_type": "stream",
     "text": [
      "~ 7 116 43 137 0\n",
      "f 43 104 47 115 0\n",
      "r 47 104 49 115 0\n",
      "o 55 104 58 112 0\n",
      "m 62 104 74 112 0\n",
      "P 83 104 86 114 0\n",
      "I 86 104 90 114 0\n",
      "L 94 104 106 114 0\n",
      "i 115 104 120 115 0\n",
      "m 123 104 127 112 0\n",
      "p 131 101 136 112 0\n",
      "o 139 104 144 112 0\n",
      "r 144 104 145 112 0\n",
      "t 151 104 161 114 0\n",
      "I 171 104 175 114 0\n",
      "m 178 104 183 112 0\n",
      "a 187 104 191 112 0\n",
      "g 195 101 200 112 0\n",
      "e 203 104 210 112 0\n",
      "e 11 84 15 92 0\n",
      "x 19 84 23 92 0\n",
      "c 23 84 26 92 0\n",
      "e 30 84 33 92 0\n",
      "p 38 81 47 92 0\n",
      "t 51 84 57 94 0\n",
      "I 67 84 71 94 0\n",
      "m 71 84 73 94 0\n",
      "p 78 84 82 92 0\n",
      "o 85 81 90 92 0\n",
      "r 93 84 97 92 0\n",
      "t 100 84 106 92 0\n",
      "e 108 84 113 94 0\n",
      "r 117 84 122 94 0\n",
      "r 124 84 130 92 0\n",
      "o 132 84 138 92 0\n",
      "r 139 84 145 92 0\n",
      ": 148 84 154 92 0\n",
      "i 43 64 47 75 0\n",
      "m 51 64 55 72 0\n",
      "p 55 64 58 72 0\n",
      "o 62 61 65 72 0\n",
      "r 70 64 73 72 0\n",
      "t 79 64 89 74 0\n",
      "I 99 64 103 74 0\n",
      "m 106 64 111 72 0\n",
      "a 115 64 120 72 0\n",
      "g 123 61 127 72 0\n",
      "e 131 64 138 72 0\n",
      "i 11 44 15 55 0\n",
      "m 19 44 23 52 0\n",
      "p 23 44 26 52 0\n",
      "o 30 41 33 52 0\n",
      "r 38 44 41 52 0\n",
      "t 47 44 57 54 0\n",
      "p 67 41 71 52 0\n",
      "y 71 41 74 52 0\n",
      "t 78 41 87 54 0\n",
      "e 91 44 95 52 0\n",
      "s 99 44 104 52 0\n",
      "s 107 44 112 52 0\n",
      "e 115 44 119 52 0\n",
      "r 119 44 122 52 0\n",
      "a 127 44 135 52 0\n",
      "c 139 44 143 52 0\n",
      "t 147 44 153 54 0\n",
      "# 10 5 18 15 0\n",
      "I 27 5 32 15 0\n",
      "f 35 5 41 16 0\n",
      "y 51 2 56 13 0\n",
      "o 59 5 64 13 0\n",
      "u 67 5 73 13 0\n",
      "d 83 5 88 16 0\n",
      "o 91 5 96 13 0\n",
      "n 99 5 104 13 0\n",
      "' 109 11 111 15 0\n",
      "t 115 5 121 15 0\n",
      "h 131 5 136 16 0\n",
      "a 139 5 144 13 0\n",
      "v 147 5 152 13 0\n",
      "e 155 5 161 13 0\n",
      "t 171 5 176 15 0\n",
      "e 179 5 184 13 0\n",
      "s 187 5 192 13 0\n",
      "s 195 5 200 13 0\n",
      "e 203 5 208 13 0\n",
      "r 212 5 216 13 0\n",
      "a 219 5 224 13 0\n",
      "c 227 5 232 13 0\n",
      "t 235 5 241 15 0\n",
      "e 251 5 256 13 0\n",
      "x 259 5 264 13 0\n",
      "e 267 5 272 13 0\n",
      "c 275 5 280 13 0\n",
      "u 283 5 288 13 0\n",
      "t 291 5 296 15 0\n",
      "a 299 5 304 13 0\n",
      "b 307 5 312 16 0\n",
      "l 315 5 320 16 0\n",
      "e 323 5 329 13 0\n",
      "i 339 5 344 13 0\n",
      "n 347 5 353 13 0\n",
      "y 363 2 368 13 0\n",
      "o 371 5 376 13 0\n",
      "u 379 5 384 13 0\n",
      "r 388 5 394 13 0\n",
      "P 403 5 408 15 0\n",
      "A 410 5 417 15 0\n",
      "T 418 5 423 15 0\n",
      "H 423 5 426 15 0\n",
      ", 429 3 439 15 0\n",
      "i 451 5 456 13 0\n",
      "n 459 5 464 13 0\n",
      "c 467 5 472 13 0\n",
      "l 475 5 480 16 0\n",
      "u 483 5 488 13 0\n",
      "d 491 5 496 16 0\n",
      "e 499 5 505 13 0\n",
      "t 515 5 520 15 0\n",
      "h 523 5 528 16 0\n",
      "e 531 5 537 13 0\n",
      "f 547 5 552 16 0\n",
      "o 555 5 560 13 0\n",
      "l 563 5 568 16 0\n",
      "l 571 5 576 16 0\n",
      "o 579 5 584 13 0\n",
      "w 586 5 592 13 0\n",
      "i 595 5 600 13 0\n",
      "n 603 5 608 13 0\n",
      "g 611 2 617 13 0\n",
      "\n"
     ]
    }
   ],
   "source": [
    "print(pytesseract.image_to_boxes(img))"
   ]
  }
 ],
 "metadata": {
  "kernelspec": {
   "display_name": "Python 3",
   "language": "python",
   "name": "python3"
  },
  "language_info": {
   "codemirror_mode": {
    "name": "ipython",
    "version": 3
   },
   "file_extension": ".py",
   "mimetype": "text/x-python",
   "name": "python",
   "nbconvert_exporter": "python",
   "pygments_lexer": "ipython3",
   "version": "3.7.3"
  }
 },
 "nbformat": 4,
 "nbformat_minor": 4
}
