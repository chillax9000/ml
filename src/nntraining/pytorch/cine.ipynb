{
 "cells": [
  {
   "cell_type": "code",
   "execution_count": 1,
   "metadata": {},
   "outputs": [],
   "source": [
    "import pandas as pd\n",
    "import os"
   ]
  },
  {
   "cell_type": "code",
   "execution_count": 2,
   "metadata": {},
   "outputs": [],
   "source": [
    "import random\n",
    "import matplotlib.pyplot as plt\n",
    "import collections\n",
    "import numpy as np\n",
    "import operator\n",
    "import simpleclock"
   ]
  },
  {
   "cell_type": "code",
   "execution_count": 3,
   "metadata": {},
   "outputs": [],
   "source": [
    "resources_path = os.path.join(os.path.dirname(os.path.abspath('')), \"resources\")\n",
    "data_path = os.path.join(resources_path, \"data_cine.csv\")\n",
    "cleaned_data_path = os.path.join(resources_path, \"data_cine_cleaned.csv\")"
   ]
  },
  {
   "cell_type": "code",
   "execution_count": 4,
   "metadata": {},
   "outputs": [],
   "source": [
    "df_all = pd.read_csv(data_path)"
   ]
  },
  {
   "cell_type": "code",
   "execution_count": 5,
   "metadata": {},
   "outputs": [
    {
     "name": "stdout",
     "output_type": "stream",
     "text": [
      "(79958, 4)\n",
      "['id' 'titre' 'note' 'critique']\n"
     ]
    }
   ],
   "source": [
    "print(df_all.shape)\n",
    "print(df_all.columns.values)"
   ]
  },
  {
   "cell_type": "markdown",
   "metadata": {},
   "source": [
    "## preprocessing"
   ]
  },
  {
   "cell_type": "code",
   "execution_count": 6,
   "metadata": {},
   "outputs": [
    {
     "name": "stdout",
     "output_type": "stream",
     "text": [
      "6372 (0.08%) lines removed\n"
     ]
    },
    {
     "name": "stderr",
     "output_type": "stream",
     "text": [
      "/home/cuicui/sources/nn-training/venv/lib/python3.6/site-packages/pandas/core/indexing.py:964: SettingWithCopyWarning: \n",
      "A value is trying to be set on a copy of a slice from a DataFrame.\n",
      "Try using .loc[row_indexer,col_indexer] = value instead\n",
      "\n",
      "See the caveats in the documentation: https://pandas.pydata.org/pandas-docs/stable/user_guide/indexing.html#returning-a-view-versus-a-copy\n",
      "  self.obj[item] = s\n"
     ]
    }
   ],
   "source": [
    "# remove 'empty' reviews (those sending to another website) // to be removed from the DS\n",
    "def is_review_empty(s): \n",
    "    _s = s.lower().replace(\"  \", \" \")\n",
    "    return len(_s.split()) < 16 and any(sub in _s for sub in \n",
    "                                        (\"voir la critique\", \n",
    "                                         \"voir le site\", \n",
    "                                         \"voir sur le site\", \n",
    "                                         \"voir le magazine\",\n",
    "                                         \"voir le point\",\n",
    "                                         \"express.fr\",\n",
    "                                         \"point.fr\",\n",
    "                                         \"studio ciné live\",\n",
    "                                         \"www.\",\n",
    "                                        ))\n",
    "\n",
    "\n",
    "df_ = df_all.loc[~df_all[\"critique\"].apply(is_review_empty)]\n",
    "df_removed = df_all.loc[df_all[\"critique\"].apply(is_review_empty)]\n",
    "empty_reviews = collections.Counter(df_removed[\"critique\"].values)\n",
    "print(f\"{df_removed.shape[0]} ({df_removed.shape[0] / df_all.shape[0]:.2f}%) lines removed\")\n",
    "\n",
    "df_.loc[:, \"critique\"] = df_[\"critique\"].str.strip()\n",
    "\n",
    "df_clean = df_\n",
    "\n",
    "# empty_reviews  # to check"
   ]
  },
  {
   "cell_type": "code",
   "execution_count": 7,
   "metadata": {},
   "outputs": [
    {
     "data": {
      "text/plain": [
       "Counter({6: 37,\n",
       "         5: 52,\n",
       "         4: 30,\n",
       "         10: 9,\n",
       "         8: 23,\n",
       "         12: 3,\n",
       "         7: 22,\n",
       "         1: 5,\n",
       "         9: 14,\n",
       "         3: 7,\n",
       "         2: 12})"
      ]
     },
     "execution_count": 7,
     "metadata": {},
     "output_type": "execute_result"
    }
   ],
   "source": [
    "collections.Counter(map(len, map(str.split, map(str.lower, empty_reviews))))\n",
    "# sorted(set(map(str.lower, empty_reviews)), key=lambda s: len(s.split()), reverse=True)"
   ]
  },
  {
   "cell_type": "code",
   "execution_count": 8,
   "metadata": {},
   "outputs": [],
   "source": [
    "df = df_clean"
   ]
  },
  {
   "cell_type": "code",
   "execution_count": 9,
   "metadata": {},
   "outputs": [],
   "source": [
    "df.to_csv(cleaned_data_path, index=False)"
   ]
  },
  {
   "cell_type": "markdown",
   "metadata": {},
   "source": [
    "## exploration"
   ]
  },
  {
   "cell_type": "code",
   "execution_count": 10,
   "metadata": {},
   "outputs": [
    {
     "data": {
      "text/plain": [
       "'73586 critiques pour 4597 films (16.0 en moy.)'"
      ]
     },
     "execution_count": 10,
     "metadata": {},
     "output_type": "execute_result"
    }
   ],
   "source": [
    "f\"{df.shape[0]} critiques pour {len(set(df.id))} films ({df.shape[0] / len(set(df.id)):.1f} en moy.)\""
   ]
  },
  {
   "cell_type": "code",
   "execution_count": 11,
   "metadata": {},
   "outputs": [
    {
     "name": "stdout",
     "output_type": "stream",
     "text": [
      "96 Heures : 4.0\n",
      "Malicieusement, ces \"96 heures\" durent 96 minutes, mais sachez que ce duel cinématographique intense ne vous laissera pas le temps de compter les secondes.\n",
      "\n",
      "La Merditude des Choses : 4.0\n",
      "L'humour ravageur, le réalisme saisissant des situations mais aussi l'interprétation décomplexée des comédiens font de cette comédie dramatique belge une expérience surréaliste et attachante.\n",
      "\n",
      "Total Recall Mémoires Programmées : 3.0\n",
      "Les geeks hypermnésiques et autres adeptes des mises en abyme à tiroirs s'amuseront à démêler ce qui, de la nouvelle originale de Philip K. Dick et de sa première adaptation par Paul Verhoeven en 1990, a ici été sauvegardé. Les autres se lasseront rapidement des effets de manche du réalisateur (...).\n",
      "\n",
      "Qu'un sang impur... : 3.0\n",
      "Ce film qui évoque sans manichéisme les violences des deux camps en Algérie, en 1960, regarde avec finesse la manière dont chaque membre d’un commando multiethnique se bricole une morale.\n",
      "\n",
      "Là-haut : 5.0\n",
      "Dans \"Là- Haut\", rien n'est conforme à la tradition du dessin animé (...). C'est magique : pour un peu, on battrait des mains comme un enfant.(...) Pour leur dixième film, (...) les artistes de Pixar,(...) ont repoussé les limites du genre.\n",
      "\n"
     ]
    }
   ],
   "source": [
    "for idx, row in df.iloc[random.sample(range(df.shape[0]), 5), :].iterrows():  # or: ... in df.sample(5).iterrows()\n",
    "    print(row.titre, \":\", row.note)\n",
    "    print(row.critique)\n",
    "    print()"
   ]
  },
  {
   "cell_type": "code",
   "execution_count": 12,
   "metadata": {},
   "outputs": [
    {
     "data": {
      "text/plain": [
       "Text(0.5, 1.0, 'nb of words per review')"
      ]
     },
     "execution_count": 12,
     "metadata": {},
     "output_type": "execute_result"
    },
    {
     "data": {
      "image/png": "[encoded data removed]",
      "text/plain": [
       "<Figure size 1152x288 with 2 Axes>"
      ]
     },
     "metadata": {
      "needs_background": "light"
     },
     "output_type": "display_data"
    }
   ],
   "source": [
    "fig, axs = plt.subplots(1, 2, figsize=(16, 4))\n",
    "axs[0].hist(df.note.values, density=True, bins=list(np.arange(1, 6, .5)), align=\"left\")\n",
    "axs[0].set_title(\"marks distribution\")\n",
    "\n",
    "lens = df.critique.apply(lambda s: len(s.split()))\n",
    "axs[1].hist(lens, density=True, bins=range(min(lens), max(lens) + 1))\n",
    "axs[1].set_title(\"nb of words per review\")"
   ]
  },
  {
   "cell_type": "code",
   "execution_count": 13,
   "metadata": {},
   "outputs": [
    {
     "name": "stdout",
     "output_type": "stream",
     "text": [
      "4.0\n",
      "C'est (...) le film le plus humain, à la fois le plus léger et le plus grave, le plus amusant et le plus inquiétant de Kubrick, celui où il ne pratique aucune surenchère vis-à-vis d'un genre particulier (...)\n",
      "\n",
      "3.0\n",
      "Les Seigneurs de Dogtown se regarde sans déplaisir mais manque de mordant et de relief. Catherine Hardwicke (...) se montre discrète et livre, du coup, une approche trop lisse de la rivalité et de la mégalomanie naissantes de ses héros. Heureusement, sa direction d'acteurs reste impeccable.\n",
      "\n",
      "2.0\n",
      "(...) le film oscille entre la comédie romantique et la gaudriole priapique. Seule, la qualité des acteurs qui jouent les tourtereaux sincères sauve ici et là ce divertissement de son penchant naturel pour les performances orgasmiques.\n",
      "\n",
      "4.0\n",
      "Le coup de l'appelé, de l'initiation par un maître et le duel singulier sont du déjà vu. Mais l'ensemble est raconté avec une bonne dose d'humour (...) La lourdeur et la gaucherie de l'animal (...) s'étale dans un décor tout en finesse.\n",
      "\n",
      "5.0\n",
      "Kalazatov dirige sa symphonie visuelle comme un chorégraphe au regard mobile, (...). Sa caméra vient pétrir Cuba comme une matière vivante, en donnant une personnalité unique à ses protagonistes grâce à des cadrages penchés, jamais conventionnels.\n",
      "\n"
     ]
    }
   ],
   "source": [
    "for t in df.loc[df.critique.str.contains(\"(...)\", regex=False)].sample(5).itertuples():\n",
    "    print(t.note)\n",
    "    print(t.critique)\n",
    "    print()"
   ]
  },
  {
   "cell_type": "markdown",
   "metadata": {},
   "source": [
    "## learning"
   ]
  },
  {
   "cell_type": "code",
   "execution_count": 14,
   "metadata": {},
   "outputs": [],
   "source": [
    "import torch\n",
    "import torchtext"
   ]
  },
  {
   "cell_type": "code",
   "execution_count": 15,
   "metadata": {},
   "outputs": [],
   "source": [
    "TEXT = torchtext.data.Field(tokenize = \"spacy\",\n",
    "                            tokenizer_language=\"fr_core_news_sm\",\n",
    "                            include_lengths=True)\n",
    "LABEL = torchtext.data.LabelField(dtype=torch.float, use_vocab=False)"
   ]
  },
  {
   "cell_type": "code",
   "execution_count": 16,
   "metadata": {},
   "outputs": [],
   "source": [
    "dataset = torchtext.data.TabularDataset(path=cleaned_data_path,\n",
    "                                        format=\"CSV\",\n",
    "                                        fields={\"critique\": (\"critique\", TEXT), \"note\": (\"note\", LABEL)})"
   ]
  },
  {
   "cell_type": "code",
   "execution_count": 17,
   "metadata": {},
   "outputs": [],
   "source": [
    "data_train, data_test = dataset.split()"
   ]
  },
  {
   "cell_type": "code",
   "execution_count": 18,
   "metadata": {},
   "outputs": [],
   "source": [
    "data_train, data_valid = data_train.split()"
   ]
  },
  {
   "cell_type": "code",
   "execution_count": 19,
   "metadata": {},
   "outputs": [
    {
     "name": "stdout",
     "output_type": "stream",
     "text": [
      "training data: 36057 examples.\n",
      "validation data: 15453 examples.\n",
      "test data: 22076 examples.\n"
     ]
    }
   ],
   "source": [
    "print(f\"\"\"training data: {len(data_train)} examples.\n",
    "validation data: {len(data_valid)} examples.\n",
    "test data: {len(data_test)} examples.\"\"\")"
   ]
  },
  {
   "cell_type": "code",
   "execution_count": 20,
   "metadata": {},
   "outputs": [],
   "source": [
    "vectors = torchtext.vocab.Vectors(\"cc.fr.300.vec\", os.path.join(os.path.expanduser(\"~\"), \"Downloads\"))"
   ]
  },
  {
   "cell_type": "code",
   "execution_count": 21,
   "metadata": {},
   "outputs": [],
   "source": [
    "VOCAB_MAX_SIZE = 50000\n",
    "TEXT.build_vocab(data_train, max_size=VOCAB_MAX_SIZE, vectors=vectors)\n",
    "# LABEL.build_vocab(dataset)"
   ]
  },
  {
   "cell_type": "code",
   "execution_count": 22,
   "metadata": {},
   "outputs": [],
   "source": [
    "device = torch.device(\"cuda\")"
   ]
  },
  {
   "cell_type": "code",
   "execution_count": 23,
   "metadata": {},
   "outputs": [],
   "source": [
    "BATCH_SIZE = 64"
   ]
  },
  {
   "cell_type": "code",
   "execution_count": 24,
   "metadata": {},
   "outputs": [],
   "source": [
    "iter_train, iter_valid, iter_test = \\\n",
    "    torchtext.data.BucketIterator.splits(datasets=(data_train, data_valid, data_test),\n",
    "                                         batch_size=BATCH_SIZE,\n",
    "                                         device=device,\n",
    "                                         sort_within_batch=True,\n",
    "                                         sort_key=lambda example: len(example.critique),\n",
    "                                         sort=False)"
   ]
  },
  {
   "cell_type": "code",
   "execution_count": 109,
   "metadata": {},
   "outputs": [],
   "source": [
    "class RNN(torch.nn.Module):\n",
    "    def __init__(self, n_vocab, embedding_dim, hidden_dim, output_dim, dropout, pad_idx):\n",
    "        super().__init__()\n",
    "        \n",
    "        self.embedding = torch.nn.Embedding(n_vocab, embedding_dim, padding_idx = pad_idx)\n",
    "        self.rnn = torch.nn.LSTM(embedding_dim,\n",
    "                                 hidden_dim,\n",
    "                                 bidirectional=True,\n",
    "                                 num_layers=2)\n",
    "        self.fc = torch.nn.Linear(hidden_dim * 2, output_dim)\n",
    "        self.dropout = torch.nn.Dropout(dropout)\n",
    "        self.sigmoid = torch.nn.Sigmoid()\n",
    "        \n",
    "    def forward(self, input, lengths):\n",
    "        torch.nn.utils.rnn.pack_padded_sequence(input, lengths)\n",
    "        embedded = self.embedding(input)  # ((sent_len, batch_size), emb_dim)\n",
    "        packed_output, (hidden, cell) = self.rnn(embedded)  # hidden: (num_layers * num_directions, batch, hidden_size)\n",
    "        return self.sigmoid(self.fc(self.dropout(\n",
    "            torch.cat([hidden[-2, :, :], hidden[-1, :, :]], dim=1).squeeze(0))))  # (batch_size, 1)"
   ]
  },
  {
   "cell_type": "code",
   "execution_count": 110,
   "metadata": {},
   "outputs": [],
   "source": [
    "N_VOCAB = len(TEXT.vocab)\n",
    "EMBEDDING_DIM = 300\n",
    "HIDDEN_DIM = 256\n",
    "OUTPUT_DIM = 1\n",
    "DROPOUT = 0.5\n",
    "PAD_IDX = TEXT.vocab.stoi[TEXT.pad_token]\n",
    "\n",
    "model = RNN(N_VOCAB, EMBEDDING_DIM, HIDDEN_DIM, OUTPUT_DIM, dropout=DROPOUT, pad_idx=PAD_IDX)"
   ]
  },
  {
   "cell_type": "code",
   "execution_count": 111,
   "metadata": {},
   "outputs": [
    {
     "name": "stdout",
     "output_type": "stream",
     "text": [
      "The model has 17720857 trainable parameters\n"
     ]
    }
   ],
   "source": [
    "print(f'The model has {sum(p.numel() for p in model.parameters() if p.requires_grad)} trainable parameters')"
   ]
  },
  {
   "cell_type": "code",
   "execution_count": 112,
   "metadata": {},
   "outputs": [],
   "source": [
    "model.embedding.weight.data.copy_(TEXT.vocab.vectors)\n",
    "\n",
    "UNK_IDX = TEXT.vocab.stoi[TEXT.unk_token]\n",
    "\n",
    "model.embedding.weight.data[UNK_IDX] = torch.zeros(EMBEDDING_DIM)\n",
    "model.embedding.weight.data[PAD_IDX] = torch.zeros(EMBEDDING_DIM)"
   ]
  },
  {
   "cell_type": "code",
   "execution_count": 113,
   "metadata": {},
   "outputs": [],
   "source": [
    "criterion = torch.nn.MSELoss()"
   ]
  },
  {
   "cell_type": "code",
   "execution_count": 114,
   "metadata": {},
   "outputs": [],
   "source": [
    "model = model.to(device)\n",
    "criterion = criterion.to(device)"
   ]
  },
  {
   "cell_type": "code",
   "execution_count": 115,
   "metadata": {},
   "outputs": [],
   "source": [
    "optimizer = torch.optim.Adam(model.parameters())"
   ]
  },
  {
   "cell_type": "code",
   "execution_count": 87,
   "metadata": {},
   "outputs": [],
   "source": [
    "def output_to_pred(output):\n",
    "    return (output * 10).round() / 2"
   ]
  },
  {
   "cell_type": "code",
   "execution_count": 88,
   "metadata": {},
   "outputs": [],
   "source": [
    "def accuracy(preds, y):\n",
    "    diffs = preds - y\n",
    "    correct = (diffs == 0).float() # convert into float for division \n",
    "    acc = correct.sum() / len(correct)\n",
    "    return acc"
   ]
  },
  {
   "cell_type": "code",
   "execution_count": 34,
   "metadata": {},
   "outputs": [],
   "source": [
    "def train(model, iterator, optimizer, criterion):\n",
    "    epoch_loss = 0\n",
    "    epoch_acc = 0\n",
    "    \n",
    "    model.train()\n",
    "    \n",
    "    for batch in iterator:\n",
    "        optimizer.zero_grad()\n",
    "        padded_sequences, lengths = batch.critique\n",
    "        output = model(padded_sequences, lengths).squeeze(1)\n",
    "        loss = criterion(output, batch.note / 5.)\n",
    "        acc = accuracy(output_to_pred(output), batch.note)\n",
    "        loss.backward()\n",
    "        optimizer.step()\n",
    "        \n",
    "        epoch_loss += loss.item()\n",
    "        epoch_acc += acc.item()\n",
    "      \n",
    "    return epoch_loss / len(iterator), epoch_acc / len(iterator)"
   ]
  },
  {
   "cell_type": "code",
   "execution_count": 35,
   "metadata": {},
   "outputs": [],
   "source": [
    "def evaluate(model, iterator, criterion):\n",
    "    \n",
    "    epoch_loss = 0\n",
    "    epoch_acc = 0\n",
    "    \n",
    "    model.eval()\n",
    "    \n",
    "    with torch.no_grad():\n",
    "    \n",
    "        for batch in iterator:\n",
    "            padded_sequences, lengths = batch.critique\n",
    "            output = model(padded_sequences, lengths).squeeze(1)\n",
    "            loss = criterion(output, batch.note / 5.)\n",
    "            acc = accuracy(output_to_pred(output), batch.note)\n",
    "\n",
    "            epoch_loss += loss.item()\n",
    "            epoch_acc += acc.item()\n",
    "        \n",
    "    return epoch_loss / len(iterator), epoch_acc / len(iterator)"
   ]
  },
  {
   "cell_type": "code",
   "execution_count": 129,
   "metadata": {},
   "outputs": [
    {
     "name": "stdout",
     "output_type": "stream",
     "text": [
      "Epoch: 01 | Epoch Time: 15.12s\n",
      "\tTrain Loss: 0.000 | Train Acc: 99.53%\n",
      "\t Val. Loss: 0.035 |  Val. Acc: 42.06%\n",
      "Epoch: 02 | Epoch Time: 15.01s\n",
      "\tTrain Loss: 0.000 | Train Acc: 99.52%\n",
      "\t Val. Loss: 0.034 |  Val. Acc: 42.03%\n",
      "Epoch: 03 | Epoch Time: 14.97s\n",
      "\tTrain Loss: 0.000 | Train Acc: 99.58%\n",
      "\t Val. Loss: 0.035 |  Val. Acc: 41.77%\n",
      "Epoch: 04 | Epoch Time: 15.21s\n",
      "\tTrain Loss: 0.000 | Train Acc: 99.51%\n",
      "\t Val. Loss: 0.034 |  Val. Acc: 42.38%\n",
      "Epoch: 05 | Epoch Time: 14.95s\n",
      "\tTrain Loss: 0.000 | Train Acc: 99.66%\n",
      "\t Val. Loss: 0.034 |  Val. Acc: 42.00%\n",
      "Epoch: 06 | Epoch Time: 14.98s\n",
      "\tTrain Loss: 0.000 | Train Acc: 99.52%\n",
      "\t Val. Loss: 0.035 |  Val. Acc: 42.01%\n",
      "Epoch: 07 | Epoch Time: 14.97s\n",
      "\tTrain Loss: 0.000 | Train Acc: 99.62%\n",
      "\t Val. Loss: 0.036 |  Val. Acc: 41.99%\n",
      "Epoch: 08 | Epoch Time: 14.97s\n",
      "\tTrain Loss: 0.000 | Train Acc: 99.65%\n",
      "\t Val. Loss: 0.036 |  Val. Acc: 41.37%\n",
      "Epoch: 09 | Epoch Time: 14.99s\n",
      "\tTrain Loss: 0.000 | Train Acc: 99.67%\n",
      "\t Val. Loss: 0.036 |  Val. Acc: 42.06%\n",
      "Epoch: 10 | Epoch Time: 14.97s\n",
      "\tTrain Loss: 0.000 | Train Acc: 99.73%\n",
      "\t Val. Loss: 0.036 |  Val. Acc: 42.21%\n",
      "Total time: 150.15s\n"
     ]
    },
    {
     "data": {
      "text/plain": [
       "150.15053936599998"
      ]
     },
     "execution_count": 129,
     "metadata": {},
     "output_type": "execute_result"
    }
   ],
   "source": [
    "N_EPOCHS = 10\n",
    "\n",
    "best_valid_loss = float('inf')\n",
    "\n",
    "clock = simpleclock.Clock.started()\n",
    "\n",
    "for epoch in range(N_EPOCHS):\n",
    "\n",
    "    clock.elapsed_since_start.call()  # meh\n",
    "    \n",
    "    train_loss, train_acc = train(model, iter_train, optimizer, criterion)\n",
    "    valid_loss, valid_acc = evaluate(model, iter_valid, criterion)\n",
    "    \n",
    "    if valid_loss < best_valid_loss:\n",
    "        best_valid_loss = valid_loss\n",
    "        torch.save(model.state_dict(), 'best_model.pt')\n",
    "    \n",
    "    clock.elapsed_since_last_call.print(f\"Epoch: {epoch+1:02} | Epoch Time\")\n",
    "    print(f'\\tTrain Loss: {train_loss:.3f} | Train Acc: {train_acc*100:.2f}%')\n",
    "    print(f'\\t Val. Loss: {valid_loss:.3f} |  Val. Acc: {valid_acc*100:.2f}%')\n",
    "clock.elapsed_since_start.print(\"Total time\")"
   ]
  },
  {
   "cell_type": "code",
   "execution_count": 37,
   "metadata": {},
   "outputs": [],
   "source": [
    "import spacy\n",
    "\n",
    "nlp = spacy.load('fr_core_news_sm')"
   ]
  },
  {
   "cell_type": "code",
   "execution_count": 71,
   "metadata": {},
   "outputs": [],
   "source": [
    "def predict_tokens(tokens, model):\n",
    "    model.eval()\n",
    "    idxs = [TEXT.vocab.stoi[t] for t in tokens]\n",
    "    inp = torch.LongTensor(idxs).reshape(-1, 1).to(device)\n",
    "    output = output_to_pred(model(inp, torch.LongTensor([len(tokens)])))\n",
    "    return output.item()"
   ]
  },
  {
   "cell_type": "code",
   "execution_count": 72,
   "metadata": {},
   "outputs": [],
   "source": [
    "def predict(sentence, model):\n",
    "    return predict_tokens(list(map(str, nlp.tokenizer(sentence))), model)"
   ]
  },
  {
   "cell_type": "code",
   "execution_count": 127,
   "metadata": {},
   "outputs": [
    {
     "data": {
      "text/plain": [
       "2.0"
      ]
     },
     "execution_count": 127,
     "metadata": {},
     "output_type": "execute_result"
    }
   ],
   "source": [
    "predict(\"Du temps perdu.\", model)"
   ]
  },
  {
   "cell_type": "code",
   "execution_count": null,
   "metadata": {},
   "outputs": [],
   "source": [
    "model.load_state_dict(torch.load('best_model.pt'))"
   ]
  },
  {
   "cell_type": "code",
   "execution_count": 133,
   "metadata": {},
   "outputs": [],
   "source": [
    "ex = data_test[0]"
   ]
  },
  {
   "cell_type": "code",
   "execution_count": 134,
   "metadata": {},
   "outputs": [],
   "source": [
    "tokens, note = ex.critique, float(ex.note)"
   ]
  },
  {
   "cell_type": "code",
   "execution_count": 136,
   "metadata": {},
   "outputs": [
    {
     "name": "stdout",
     "output_type": "stream",
     "text": [
      "['Nouvel', 'épisode', 'd’', 'une', 'saga', 'd’', 'épouvante', 'nippoaméricaine', ',', 'dont', 'on', 'ne', 'sait', 'plus', 'trop', 'à', 'quel', 'numéro', 'on', 'en', 'est', ',', 'd’', 'autant', 'qu’', 'ils', 'finissent', 'par', 'tous', 'se', 'ressembler', '.']\n"
     ]
    },
    {
     "data": {
      "text/plain": [
       "(4.0, 1.0)"
      ]
     },
     "execution_count": 136,
     "metadata": {},
     "output_type": "execute_result"
    }
   ],
   "source": [
    "print(tokens)\n",
    "predict_tokens(tokens, model), note"
   ]
  }
 ],
 "metadata": {
  "kernelspec": {
   "display_name": "Python 3",
   "language": "python",
   "name": "python3"
  },
  "language_info": {
   "codemirror_mode": {
    "name": "ipython",
    "version": 3
   },
   "file_extension": ".py",
   "mimetype": "text/x-python",
   "name": "python",
   "nbconvert_exporter": "python",
   "pygments_lexer": "ipython3",
   "version": "3.6.9"
  }
 },
 "nbformat": 4,
 "nbformat_minor": 2
}
