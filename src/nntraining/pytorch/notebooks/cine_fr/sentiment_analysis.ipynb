{
 "cells": [
  {
   "cell_type": "code",
   "execution_count": 1,
   "metadata": {},
   "outputs": [],
   "source": [
    "import pandas as pd\n",
    "import os"
   ]
  },
  {
   "cell_type": "code",
   "execution_count": 2,
   "metadata": {},
   "outputs": [],
   "source": [
    "import random\n",
    "import matplotlib.pyplot as plt\n",
    "import collections\n",
    "import numpy as np\n",
    "import operator\n",
    "import simpleclock\n",
    "import sklearn.metrics\n",
    "import itertools\n",
    "import pickle\n",
    "import tqdm"
   ]
  },
  {
   "cell_type": "code",
   "execution_count": 3,
   "metadata": {},
   "outputs": [],
   "source": [
    "import torch\n",
    "import torchtext"
   ]
  },
  {
   "cell_type": "markdown",
   "metadata": {},
   "source": [
    "## Dataset, iterators"
   ]
  },
  {
   "cell_type": "code",
   "execution_count": 4,
   "metadata": {},
   "outputs": [],
   "source": [
    "data_path = os.path.join(os.path.abspath(''), \"data_cine_cleaned.csv\")"
   ]
  },
  {
   "cell_type": "code",
   "execution_count": 5,
   "metadata": {},
   "outputs": [],
   "source": [
    "TEXT = torchtext.data.Field(tokenize = \"spacy\",\n",
    "                            tokenizer_language=\"fr_core_news_sm\",\n",
    "                            include_lengths=True)\n",
    "LABEL = torchtext.data.LabelField(dtype=torch.float, use_vocab=False, preprocessing=lambda x: float(x) / 5)\n",
    "# labels are linearly rescaled to a 0-1 range"
   ]
  },
  {
   "cell_type": "code",
   "execution_count": 6,
   "metadata": {},
   "outputs": [],
   "source": [
    "dataset = torchtext.data.TabularDataset(path=data_path,\n",
    "                                        format=\"CSV\",\n",
    "                                        fields={\"critique\": (\"input\", TEXT), \"note\": (\"target\", LABEL)})"
   ]
  },
  {
   "cell_type": "code",
   "execution_count": 7,
   "metadata": {},
   "outputs": [],
   "source": [
    "data_train, data_test = dataset.split()"
   ]
  },
  {
   "cell_type": "code",
   "execution_count": 8,
   "metadata": {},
   "outputs": [],
   "source": [
    "data_train, data_valid = data_train.split()"
   ]
  },
  {
   "cell_type": "code",
   "execution_count": 9,
   "metadata": {},
   "outputs": [
    {
     "name": "stdout",
     "output_type": "stream",
     "text": [
      "training data: 36057 examples.\n",
      "validation data: 15453 examples.\n",
      "test data: 22076 examples.\n"
     ]
    }
   ],
   "source": [
    "print(f\"\"\"training data: {len(data_train)} examples.\n",
    "validation data: {len(data_valid)} examples.\n",
    "test data: {len(data_test)} examples.\"\"\")"
   ]
  },
  {
   "cell_type": "code",
   "execution_count": 10,
   "metadata": {},
   "outputs": [],
   "source": [
    "vectors = torchtext.vocab.Vectors(\"cc.fr.300.vec\", os.path.join(os.path.expanduser(\"~\"), \"Downloads\"))"
   ]
  },
  {
   "cell_type": "code",
   "execution_count": 11,
   "metadata": {},
   "outputs": [],
   "source": [
    "VOCAB_MAX_SIZE = 50000\n",
    "TEXT.build_vocab(data_train, max_size=VOCAB_MAX_SIZE, vectors=vectors)"
   ]
  },
  {
   "cell_type": "code",
   "execution_count": 12,
   "metadata": {},
   "outputs": [],
   "source": [
    "DEVICE = torch.device(\"cuda\")"
   ]
  },
  {
   "cell_type": "code",
   "execution_count": 13,
   "metadata": {},
   "outputs": [],
   "source": [
    "BATCH_SIZE = 256"
   ]
  },
  {
   "cell_type": "code",
   "execution_count": 14,
   "metadata": {},
   "outputs": [],
   "source": [
    "iter_train, iter_valid, iter_test = \\\n",
    "    torchtext.data.BucketIterator.splits(datasets=(data_train, data_valid, data_test),\n",
    "                                         batch_size=BATCH_SIZE,\n",
    "                                         device=DEVICE,\n",
    "                                         sort_within_batch=True,\n",
    "                                         sort_key=lambda example: len(example.input),\n",
    "                                         sort=False)"
   ]
  },
  {
   "cell_type": "markdown",
   "metadata": {},
   "source": [
    "## Model definition and training"
   ]
  },
  {
   "cell_type": "code",
   "execution_count": 15,
   "metadata": {},
   "outputs": [],
   "source": [
    "class RNN(torch.nn.Module):\n",
    "    def __init__(self, n_vocab, embedding_dim, hidden_dim, output_dim, dropout, bidirectional,\n",
    "                 n_layers, pad_idx):\n",
    "        super().__init__()\n",
    "        self.embedding_dim = embedding_dim\n",
    "        self.bidirectional = bidirectional\n",
    "        num_dir = 2 if bidirectional else 1\n",
    "        self.embedding = torch.nn.Embedding(n_vocab, embedding_dim, padding_idx=pad_idx)\n",
    "        self.rnn = torch.nn.LSTM(embedding_dim,\n",
    "                                 hidden_dim,\n",
    "                                 bidirectional=bidirectional,\n",
    "                                 num_layers=n_layers)\n",
    "        self.fc = torch.nn.Linear(hidden_dim * num_dir, output_dim)\n",
    "        self.dropout = torch.nn.Dropout(dropout)\n",
    "        self.sigmoid = torch.nn.Sigmoid()\n",
    "        \n",
    "    def forward(self, input_lengths):\n",
    "        input, lengths = input_lengths\n",
    "        torch.nn.utils.rnn.pack_padded_sequence(input, lengths)\n",
    "        embedded = self.embedding(input)  # ((sent_len, batch), emb_dim)\n",
    "        packed_output, (hidden, cell) = self.rnn(embedded)  # hidden: (num_layers * num_directions,\n",
    "                                                            #          batch, hidden_size * num_directions)\n",
    "        hidden = (torch.cat([hidden[-2, :, :], hidden[-1, :, :]], dim=1)\n",
    "                  if self.bidirectional else hidden).squeeze(0)  # (batch, hidden_size * num_directions)\n",
    "        return self.sigmoid(self.fc(self.dropout(hidden)))  # (batch, 1)"
   ]
  },
  {
   "cell_type": "code",
   "execution_count": 16,
   "metadata": {},
   "outputs": [],
   "source": [
    "# alternative\n",
    "PAD_IDX = TEXT.vocab.stoi[TEXT.pad_token]\n",
    "UNK_IDX = TEXT.vocab.stoi[TEXT.unk_token]\n",
    "\n",
    "DEFAULT_PARAMS = {\n",
    "    \"n_vocab\": len(TEXT.vocab),\n",
    "    \"embedding_dim\": 300,\n",
    "    \"hidden_dim\": 256,\n",
    "    \"output_dim\": 1,\n",
    "    \"dropout\": 0.5,\n",
    "    \"bidirectional\": True,\n",
    "    \"n_layers\": 1,\n",
    "    \"pad_idx\": PAD_IDX,\n",
    "}\n",
    "\n",
    "def default_model(**kwargs):\n",
    "    _d = {}\n",
    "    _d.update(DEFAULT_PARAMS)\n",
    "    _d.update(kwargs)\n",
    "    return RNN(**_d)"
   ]
  },
  {
   "cell_type": "code",
   "execution_count": 17,
   "metadata": {},
   "outputs": [],
   "source": [
    "def pseudo_init(model, criterion, device=DEVICE, learn_embedding_param=True):\n",
    "    model.embedding.weight.data.copy_(TEXT.vocab.vectors)\n",
    "    model.embedding.weight.data[UNK_IDX] = torch.zeros(model.embedding_dim)\n",
    "    model.embedding.weight.data[PAD_IDX] = torch.zeros(model.embedding_dim)\n",
    "    \n",
    "    for name, param in model.named_parameters():\n",
    "        if name == \"embedding.weight\":\n",
    "            param.requires_grad = learn_embedding_param\n",
    "    \n",
    "    print(\"The model has {:,} trainable parameters\"\n",
    "         .format(sum(p.numel() for p in model.parameters() if p.requires_grad)))\n",
    "    \n",
    "    model = model.to(device)\n",
    "    criterion = criterion.to(device)\n",
    "    \n",
    "    return model, criterion"
   ]
  },
  {
   "cell_type": "code",
   "execution_count": 18,
   "metadata": {},
   "outputs": [],
   "source": [
    "def output_to_pred(output):\n",
    "    return (output * 10).round() / 2"
   ]
  },
  {
   "cell_type": "code",
   "execution_count": 19,
   "metadata": {},
   "outputs": [],
   "source": [
    "def accuracy(preds, y):\n",
    "    correct = (preds == y).float()  # convert into float for division \n",
    "    acc = correct.sum() / len(correct)\n",
    "    return acc"
   ]
  },
  {
   "cell_type": "code",
   "execution_count": 20,
   "metadata": {},
   "outputs": [],
   "source": [
    "def train(model, iterator, optimizer, criterion):\n",
    "    epoch_loss = 0\n",
    "    epoch_acc = 0\n",
    "    \n",
    "    model.train()\n",
    "    \n",
    "    for batch in iterator:\n",
    "        optimizer.zero_grad()\n",
    "        output = model(batch.input).squeeze(1)\n",
    "        loss = criterion(output, batch.target)\n",
    "        loss.backward()\n",
    "        optimizer.step()\n",
    "        \n",
    "        acc = accuracy(output_to_pred(output), batch.target * 5)\n",
    "        \n",
    "        epoch_loss += loss.item()\n",
    "        epoch_acc += acc.item()\n",
    "      \n",
    "    return epoch_loss / len(iterator), epoch_acc / len(iterator)"
   ]
  },
  {
   "cell_type": "code",
   "execution_count": 21,
   "metadata": {},
   "outputs": [],
   "source": [
    "def evaluate(model, iterator, criterion):\n",
    "    epoch_loss = 0\n",
    "    epoch_acc = 0\n",
    "    \n",
    "    model.eval()\n",
    "    \n",
    "    with torch.no_grad():\n",
    "        for batch in iterator:\n",
    "            output = model(batch.input).squeeze(1)\n",
    "            loss = criterion(output, batch.target)\n",
    "            acc = accuracy(output_to_pred(output), batch.target * 5)\n",
    "\n",
    "            epoch_loss += loss.item()\n",
    "            epoch_acc += acc.item()\n",
    "        \n",
    "    return epoch_loss / len(iterator), epoch_acc / len(iterator)"
   ]
  },
  {
   "cell_type": "code",
   "execution_count": 22,
   "metadata": {},
   "outputs": [],
   "source": [
    "class TrainInfo:\n",
    "    def __init__(self, valid={}, train={}):\n",
    "        self.valid = collections.defaultdict(lambda: [])\n",
    "        self.valid.update(valid)\n",
    "        self.train = collections.defaultdict(lambda: [])\n",
    "        self.train.update(train)\n",
    "    \n",
    "    def save(self, path):\n",
    "        packed = {\n",
    "            \"valid\": dict(self.valid),\n",
    "            \"train\": dict(self.train),\n",
    "        }\n",
    "        with open(path, \"wb\") as f:\n",
    "            pickle.dump(packed, f)\n",
    "    \n",
    "    @classmethod\n",
    "    def load(cls, path):\n",
    "        with open(path, \"rb\") as f:\n",
    "            packed = pickle.load(f)\n",
    "            return cls(valid=packed[\"valid\"],\n",
    "                       train=packed[\"train\"])\n",
    "    \n",
    "    @staticmethod\n",
    "    def _dict_to_repr(d):\n",
    "        return dict(map(lambda k_v: (k_v[0], f\"{len(k_v[1])} elements\"), d.items()))\n",
    "    \n",
    "    def __repr__(self):\n",
    "        return pprint.pformat({\"valid\": self._dict_to_repr(self.valid),\n",
    "                     \"train\": self._dict_to_repr(self.train),})"
   ]
  },
  {
   "cell_type": "code",
   "execution_count": 23,
   "metadata": {},
   "outputs": [],
   "source": [
    "def do_training(model, name, iter_train, iter_valid, optimizer, criterion, fun_train,\n",
    "                fun_eval, n_epochs=100, train_info=None):\n",
    "\n",
    "    clock = simpleclock.Clock.started()\n",
    "    torch.cuda.empty_cache()\n",
    "    train_info = train_info if train_info is not None else TrainInfo()\n",
    "    best_valid_loss = min(train_info.valid[\"loss\"]) if train_info.valid[\"loss\"] else float(\"inf\")\n",
    "    \n",
    "    for epoch in range(n_epochs):\n",
    "\n",
    "        clock.elapsed_since_start.call()  # meh\n",
    "\n",
    "        train_loss, train_acc = fun_train(model, iter_train, optimizer, criterion)\n",
    "        valid_loss, valid_acc = fun_eval(model, iter_valid, criterion)\n",
    "\n",
    "        clock.elapsed_since_last_call.print(\n",
    "            f\"Epoch: {epoch+1:<3}. T, V acc: {100 * train_acc:.1f}%, {100 * valid_acc:.1f}%. Took\")\n",
    "        train_info.train[\"loss\"].append(train_loss)\n",
    "        train_info.valid[\"loss\"].append(valid_loss)\n",
    "\n",
    "        if valid_loss < best_valid_loss:\n",
    "            best_valid_loss = valid_loss\n",
    "            torch.save(model.state_dict(), f\"{name}.pt\")\n",
    "\n",
    "    clock.elapsed_since_start.print(f\"Trained {name}, {n_epochs} epochs, for\")\n",
    "    return train_info"
   ]
  },
  {
   "cell_type": "code",
   "execution_count": 24,
   "metadata": {},
   "outputs": [],
   "source": [
    "class TrainSet:\n",
    "    def __init__(self, model, name, iter_train, iter_valid,\n",
    "                 fun_optimizer, fun_criterion, fun_train, fun_eval,\n",
    "                 device=DEVICE, n_epochs=100):\n",
    "        self.model = model\n",
    "        self.name = name\n",
    "        self.iter_train = iter_train\n",
    "        self.iter_valid = iter_valid\n",
    "        self.fun_optimizer = fun_optimizer\n",
    "        self.fun_criterion = fun_criterion\n",
    "        self.fun_train = fun_train\n",
    "        self.fun_eval = fun_eval\n",
    "        self.n_epochs = n_epochs\n",
    "        self.device = device\n",
    "        \n",
    "        self.optimizer = None\n",
    "        self.criterion = None\n",
    "        \n",
    "    def init(self, learn_embedding_param=True):\n",
    "        self.model, self.criterion = pseudo_init(self.model, self.fun_criterion(), self.device,\n",
    "                                                 learn_embedding_param=learn_embedding_param)\n",
    "        self.optimizer = self.fun_optimizer(self.model.parameters())\n",
    "    \n",
    "    def do_training(self):\n",
    "        if self.optimizer is None or self.criterion is None:\n",
    "            raise Exception(\"It looks like an init is needed: optimizer or criterion is None\")\n",
    "        return do_training(model=self.model,\n",
    "                           name=self.name,\n",
    "                           iter_train=self.iter_train,\n",
    "                           iter_valid=self.iter_valid,\n",
    "                           optimizer=self.optimizer,\n",
    "                           criterion=self.criterion,\n",
    "                           fun_train=self.fun_train,\n",
    "                           fun_eval=self.fun_eval,\n",
    "                           n_epochs=self.n_epochs)"
   ]
  },
  {
   "cell_type": "code",
   "execution_count": 36,
   "metadata": {},
   "outputs": [],
   "source": [
    "train_sets = []\n",
    "\n",
    "for hidden_dim, n_layers in itertools.product([128], [3]):\n",
    "    train_sets.append(TrainSet(\n",
    "        model=default_model(hidden_dim=hidden_dim, n_layers=n_layers),\n",
    "        name=f\"rnn_hidden-{hidden_dim}_nlayers-{n_layers}\",\n",
    "        iter_train=iter_train,\n",
    "        iter_valid=iter_valid,\n",
    "        fun_optimizer=torch.optim.Adam,\n",
    "        fun_criterion=torch.nn.MSELoss,\n",
    "        fun_train=train,\n",
    "        fun_eval=evaluate,\n",
    "        n_epochs=400\n",
    "    ))"
   ]
  },
  {
   "cell_type": "code",
   "execution_count": 37,
   "metadata": {},
   "outputs": [
    {
     "name": "stdout",
     "output_type": "stream",
     "text": [
      "The model has 16,231,705 trainable parameters\n",
      "Epoch: 1  . T, V acc: 20.1%, 27.2%. Took: 5.80s\n",
      "Epoch: 2  . T, V acc: 29.0%, 23.3%. Took: 5.83s\n",
      "Epoch: 3  . T, V acc: 32.0%, 22.7%. Took: 5.72s\n",
      "Epoch: 4  . T, V acc: 38.6%, 24.3%. Took: 5.72s\n",
      "Epoch: 5  . T, V acc: 47.0%, 24.7%. Took: 5.72s\n",
      "Epoch: 6  . T, V acc: 54.3%, 24.9%. Took: 5.71s\n",
      "Epoch: 7  . T, V acc: 59.9%, 25.2%. Took: 5.74s\n",
      "Epoch: 8  . T, V acc: 65.7%, 24.9%. Took: 5.73s\n",
      "Epoch: 9  . T, V acc: 71.9%, 25.1%. Took: 5.74s\n",
      "Epoch: 10 . T, V acc: 73.5%, 26.6%. Took: 5.71s\n",
      "Epoch: 11 . T, V acc: 79.0%, 26.4%. Took: 5.73s\n",
      "Epoch: 12 . T, V acc: 83.3%, 25.8%. Took: 5.69s\n",
      "Epoch: 13 . T, V acc: 86.4%, 26.0%. Took: 5.73s\n",
      "Epoch: 14 . T, V acc: 88.0%, 26.7%. Took: 5.72s\n",
      "Epoch: 15 . T, V acc: 88.5%, 27.5%. Took: 5.79s\n",
      "Epoch: 16 . T, V acc: 87.5%, 27.7%. Took: 5.82s\n",
      "Epoch: 17 . T, V acc: 87.9%, 27.2%. Took: 5.80s\n",
      "Epoch: 18 . T, V acc: 88.9%, 28.2%. Took: 5.80s\n",
      "Epoch: 19 . T, V acc: 90.0%, 29.3%. Took: 5.81s\n",
      "Epoch: 20 . T, V acc: 90.4%, 26.0%. Took: 5.79s\n",
      "Epoch: 21 . T, V acc: 91.3%, 29.2%. Took: 5.80s\n",
      "Epoch: 22 . T, V acc: 92.5%, 30.6%. Took: 5.79s\n",
      "Epoch: 23 . T, V acc: 92.9%, 30.3%. Took: 5.80s\n",
      "Epoch: 24 . T, V acc: 93.8%, 30.7%. Took: 5.79s\n",
      "Epoch: 25 . T, V acc: 94.5%, 31.6%. Took: 5.78s\n",
      "Epoch: 26 . T, V acc: 95.4%, 32.0%. Took: 5.78s\n",
      "Epoch: 27 . T, V acc: 96.2%, 32.0%. Took: 5.79s\n",
      "Epoch: 28 . T, V acc: 96.6%, 33.6%. Took: 5.80s\n",
      "Epoch: 29 . T, V acc: 96.5%, 32.6%. Took: 5.78s\n",
      "Epoch: 30 . T, V acc: 96.2%, 33.6%. Took: 5.74s\n",
      "Epoch: 31 . T, V acc: 96.0%, 34.8%. Took: 5.80s\n",
      "Epoch: 32 . T, V acc: 96.7%, 34.9%. Took: 5.78s\n",
      "Epoch: 33 . T, V acc: 95.8%, 33.6%. Took: 5.79s\n",
      "Epoch: 34 . T, V acc: 89.3%, 33.5%. Took: 5.76s\n",
      "Epoch: 35 . T, V acc: 85.3%, 34.7%. Took: 5.74s\n",
      "Epoch: 36 . T, V acc: 92.7%, 36.3%. Took: 5.72s\n",
      "Epoch: 37 . T, V acc: 96.6%, 37.8%. Took: 5.70s\n",
      "Epoch: 38 . T, V acc: 97.9%, 39.1%. Took: 5.71s\n",
      "Epoch: 39 . T, V acc: 98.4%, 39.4%. Took: 5.71s\n",
      "Epoch: 40 . T, V acc: 98.0%, 37.9%. Took: 5.72s\n",
      "Epoch: 41 . T, V acc: 98.7%, 39.9%. Took: 5.75s\n",
      "Epoch: 42 . T, V acc: 99.0%, 39.5%. Took: 5.71s\n",
      "Epoch: 43 . T, V acc: 99.0%, 38.5%. Took: 5.72s\n",
      "Epoch: 44 . T, V acc: 99.2%, 40.4%. Took: 5.76s\n",
      "Epoch: 45 . T, V acc: 99.4%, 39.8%. Took: 5.73s\n",
      "Epoch: 46 . T, V acc: 99.1%, 40.9%. Took: 5.76s\n",
      "Epoch: 47 . T, V acc: 99.1%, 40.0%. Took: 5.76s\n",
      "Epoch: 48 . T, V acc: 98.6%, 40.8%. Took: 5.76s\n",
      "Epoch: 49 . T, V acc: 98.4%, 39.9%. Took: 5.74s\n",
      "Epoch: 50 . T, V acc: 98.5%, 39.6%. Took: 5.73s\n",
      "Epoch: 51 . T, V acc: 98.3%, 40.0%. Took: 5.77s\n",
      "Epoch: 52 . T, V acc: 98.4%, 39.1%. Took: 5.76s\n",
      "Epoch: 53 . T, V acc: 98.4%, 40.0%. Took: 5.73s\n",
      "Epoch: 54 . T, V acc: 98.8%, 39.5%. Took: 5.72s\n",
      "Epoch: 55 . T, V acc: 98.9%, 40.0%. Took: 5.71s\n",
      "Epoch: 56 . T, V acc: 99.0%, 39.1%. Took: 5.71s\n",
      "Epoch: 57 . T, V acc: 99.0%, 40.2%. Took: 5.72s\n",
      "Epoch: 58 . T, V acc: 99.2%, 40.6%. Took: 5.71s\n",
      "Epoch: 59 . T, V acc: 99.0%, 40.8%. Took: 5.70s\n",
      "Epoch: 60 . T, V acc: 99.1%, 40.5%. Took: 5.73s\n",
      "Epoch: 61 . T, V acc: 99.2%, 40.3%. Took: 5.74s\n",
      "Epoch: 62 . T, V acc: 99.3%, 40.5%. Took: 5.72s\n",
      "Epoch: 63 . T, V acc: 99.2%, 40.3%. Took: 5.69s\n",
      "Epoch: 64 . T, V acc: 99.1%, 41.3%. Took: 5.71s\n",
      "Epoch: 65 . T, V acc: 98.9%, 41.1%. Took: 5.71s\n",
      "Epoch: 66 . T, V acc: 98.9%, 40.2%. Took: 5.68s\n",
      "Epoch: 67 . T, V acc: 99.0%, 40.8%. Took: 5.71s\n",
      "Epoch: 68 . T, V acc: 99.0%, 40.3%. Took: 5.69s\n",
      "Epoch: 69 . T, V acc: 98.9%, 40.8%. Took: 5.70s\n",
      "Epoch: 70 . T, V acc: 99.3%, 40.2%. Took: 5.69s\n",
      "Epoch: 71 . T, V acc: 98.0%, 40.2%. Took: 5.69s\n",
      "Epoch: 72 . T, V acc: 98.5%, 39.1%. Took: 5.69s\n",
      "Epoch: 73 . T, V acc: 98.5%, 39.7%. Took: 5.70s\n",
      "Epoch: 74 . T, V acc: 98.9%, 39.6%. Took: 5.71s\n",
      "Epoch: 75 . T, V acc: 99.0%, 39.9%. Took: 5.72s\n",
      "Epoch: 76 . T, V acc: 99.2%, 40.2%. Took: 5.69s\n",
      "Epoch: 77 . T, V acc: 99.2%, 40.8%. Took: 5.72s\n",
      "Epoch: 78 . T, V acc: 99.3%, 40.9%. Took: 5.66s\n",
      "Epoch: 79 . T, V acc: 99.5%, 40.7%. Took: 5.69s\n",
      "Epoch: 80 . T, V acc: 99.5%, 41.2%. Took: 5.72s\n",
      "Epoch: 81 . T, V acc: 99.5%, 40.8%. Took: 5.74s\n",
      "Epoch: 82 . T, V acc: 99.2%, 40.5%. Took: 5.71s\n",
      "Epoch: 83 . T, V acc: 99.4%, 40.2%. Took: 5.75s\n",
      "Epoch: 84 . T, V acc: 99.5%, 40.1%. Took: 5.72s\n",
      "Epoch: 85 . T, V acc: 99.6%, 41.7%. Took: 5.72s\n",
      "Epoch: 86 . T, V acc: 98.2%, 39.7%. Took: 5.74s\n",
      "Epoch: 87 . T, V acc: 98.8%, 39.8%. Took: 5.72s\n",
      "Epoch: 88 . T, V acc: 99.2%, 39.6%. Took: 5.70s\n",
      "Epoch: 89 . T, V acc: 99.3%, 41.0%. Took: 5.73s\n",
      "Epoch: 90 . T, V acc: 99.3%, 41.0%. Took: 5.73s\n",
      "Epoch: 91 . T, V acc: 99.4%, 41.1%. Took: 5.69s\n",
      "Epoch: 92 . T, V acc: 99.5%, 40.6%. Took: 5.72s\n",
      "Epoch: 93 . T, V acc: 99.6%, 41.0%. Took: 5.73s\n",
      "Epoch: 94 . T, V acc: 99.5%, 41.2%. Took: 5.73s\n",
      "Epoch: 95 . T, V acc: 99.6%, 41.1%. Took: 5.75s\n",
      "Epoch: 96 . T, V acc: 99.6%, 42.0%. Took: 5.70s\n",
      "Epoch: 97 . T, V acc: 99.5%, 41.2%. Took: 5.70s\n",
      "Epoch: 98 . T, V acc: 99.6%, 41.7%. Took: 5.71s\n",
      "Epoch: 99 . T, V acc: 99.5%, 40.9%. Took: 5.72s\n",
      "Epoch: 100. T, V acc: 99.6%, 40.1%. Took: 5.72s\n",
      "Epoch: 101. T, V acc: 98.3%, 39.0%. Took: 5.73s\n",
      "Epoch: 102. T, V acc: 98.7%, 40.5%. Took: 5.73s\n",
      "Epoch: 103. T, V acc: 99.1%, 40.0%. Took: 5.69s\n",
      "Epoch: 104. T, V acc: 99.4%, 40.7%. Took: 5.67s\n",
      "Epoch: 105. T, V acc: 99.4%, 40.9%. Took: 5.72s\n",
      "Epoch: 106. T, V acc: 99.3%, 40.7%. Took: 5.73s\n",
      "Epoch: 107. T, V acc: 99.6%, 40.4%. Took: 5.71s\n",
      "Epoch: 108. T, V acc: 99.6%, 39.7%. Took: 5.71s\n",
      "Epoch: 109. T, V acc: 99.7%, 41.0%. Took: 5.72s\n",
      "Epoch: 110. T, V acc: 99.7%, 41.7%. Took: 5.57s\n",
      "Epoch: 111. T, V acc: 99.7%, 41.2%. Took: 5.69s\n",
      "Epoch: 112. T, V acc: 99.7%, 41.3%. Took: 5.70s\n",
      "Epoch: 113. T, V acc: 99.7%, 41.4%. Took: 5.69s\n",
      "Epoch: 114. T, V acc: 99.7%, 41.3%. Took: 5.70s\n",
      "Epoch: 115. T, V acc: 99.7%, 41.4%. Took: 5.71s\n",
      "Epoch: 116. T, V acc: 99.6%, 41.2%. Took: 5.74s\n",
      "Epoch: 117. T, V acc: 99.6%, 41.4%. Took: 5.72s\n",
      "Epoch: 118. T, V acc: 99.6%, 41.0%. Took: 5.71s\n",
      "Epoch: 119. T, V acc: 99.3%, 39.8%. Took: 5.68s\n",
      "Epoch: 120. T, V acc: 99.3%, 40.3%. Took: 5.72s\n",
      "Epoch: 121. T, V acc: 99.2%, 40.6%. Took: 5.71s\n",
      "Epoch: 122. T, V acc: 99.3%, 41.0%. Took: 5.71s\n",
      "Epoch: 123. T, V acc: 99.5%, 41.1%. Took: 5.72s\n",
      "Epoch: 124. T, V acc: 99.6%, 41.8%. Took: 5.70s\n",
      "Epoch: 125. T, V acc: 99.6%, 41.5%. Took: 5.71s\n",
      "Epoch: 126. T, V acc: 99.4%, 40.8%. Took: 5.72s\n",
      "Epoch: 127. T, V acc: 99.4%, 41.7%. Took: 5.73s\n",
      "Epoch: 128. T, V acc: 99.5%, 40.9%. Took: 5.72s\n",
      "Epoch: 129. T, V acc: 99.6%, 40.5%. Took: 5.74s\n",
      "Epoch: 130. T, V acc: 99.5%, 41.0%. Took: 5.75s\n",
      "Epoch: 131. T, V acc: 99.6%, 41.1%. Took: 5.74s\n",
      "Epoch: 132. T, V acc: 99.7%, 41.6%. Took: 5.76s\n",
      "Epoch: 133. T, V acc: 99.7%, 40.9%. Took: 5.73s\n",
      "Epoch: 134. T, V acc: 99.7%, 40.7%. Took: 5.75s\n",
      "Epoch: 135. T, V acc: 99.7%, 41.4%. Took: 5.76s\n",
      "Epoch: 136. T, V acc: 99.7%, 41.4%. Took: 5.72s\n",
      "Epoch: 137. T, V acc: 99.7%, 41.7%. Took: 5.77s\n",
      "Epoch: 138. T, V acc: 99.8%, 41.8%. Took: 5.76s\n",
      "Epoch: 139. T, V acc: 99.8%, 41.6%. Took: 5.74s\n",
      "Epoch: 140. T, V acc: 99.8%, 41.3%. Took: 5.73s\n",
      "Epoch: 141. T, V acc: 99.8%, 41.3%. Took: 5.74s\n",
      "Epoch: 142. T, V acc: 99.7%, 41.6%. Took: 5.71s\n",
      "Epoch: 143. T, V acc: 99.6%, 41.1%. Took: 5.71s\n",
      "Epoch: 144. T, V acc: 99.5%, 41.9%. Took: 5.70s\n",
      "Epoch: 145. T, V acc: 99.5%, 40.6%. Took: 5.71s\n",
      "Epoch: 146. T, V acc: 99.6%, 40.5%. Took: 5.70s\n",
      "Epoch: 147. T, V acc: 99.6%, 41.3%. Took: 5.69s\n",
      "Epoch: 148. T, V acc: 99.4%, 39.0%. Took: 5.75s\n",
      "Epoch: 149. T, V acc: 99.5%, 41.4%. Took: 5.70s\n",
      "Epoch: 150. T, V acc: 99.5%, 40.5%. Took: 5.73s\n",
      "Epoch: 151. T, V acc: 99.6%, 40.2%. Took: 5.71s\n",
      "Epoch: 152. T, V acc: 99.7%, 41.3%. Took: 5.69s\n",
      "Epoch: 153. T, V acc: 99.7%, 40.8%. Took: 5.73s\n",
      "Epoch: 154. T, V acc: 99.7%, 40.9%. Took: 5.68s\n",
      "Epoch: 155. T, V acc: 99.7%, 40.3%. Took: 5.71s\n",
      "Epoch: 156. T, V acc: 99.7%, 40.4%. Took: 5.71s\n",
      "Epoch: 157. T, V acc: 99.7%, 40.8%. Took: 5.71s\n",
      "Epoch: 158. T, V acc: 99.7%, 40.3%. Took: 5.69s\n",
      "Epoch: 159. T, V acc: 99.7%, 40.4%. Took: 5.72s\n",
      "Epoch: 160. T, V acc: 99.7%, 40.2%. Took: 5.73s\n",
      "Epoch: 161. T, V acc: 99.7%, 40.9%. Took: 5.75s\n",
      "Epoch: 162. T, V acc: 99.8%, 40.8%. Took: 5.77s\n",
      "Epoch: 163. T, V acc: 99.8%, 41.1%. Took: 5.80s\n",
      "Epoch: 164. T, V acc: 99.7%, 41.0%. Took: 5.78s\n",
      "Epoch: 165. T, V acc: 99.7%, 41.6%. Took: 5.80s\n",
      "Epoch: 166. T, V acc: 99.7%, 40.7%. Took: 5.80s\n",
      "Epoch: 167. T, V acc: 99.7%, 40.4%. Took: 5.79s\n",
      "Epoch: 168. T, V acc: 99.7%, 41.0%. Took: 5.80s\n",
      "Epoch: 169. T, V acc: 99.7%, 40.5%. Took: 5.80s\n",
      "Epoch: 170. T, V acc: 99.7%, 40.7%. Took: 5.80s\n"
     ]
    },
    {
     "name": "stdout",
     "output_type": "stream",
     "text": [
      "Epoch: 171. T, V acc: 99.7%, 40.2%. Took: 5.79s\n",
      "Epoch: 172. T, V acc: 99.7%, 41.0%. Took: 5.80s\n",
      "Epoch: 173. T, V acc: 99.7%, 40.7%. Took: 5.81s\n",
      "Epoch: 174. T, V acc: 99.6%, 40.3%. Took: 5.81s\n",
      "Epoch: 175. T, V acc: 99.5%, 40.7%. Took: 5.79s\n",
      "Epoch: 176. T, V acc: 99.5%, 39.9%. Took: 5.78s\n",
      "Epoch: 177. T, V acc: 99.6%, 40.7%. Took: 5.77s\n",
      "Epoch: 178. T, V acc: 99.7%, 40.3%. Took: 5.79s\n",
      "Epoch: 179. T, V acc: 99.7%, 39.7%. Took: 5.78s\n",
      "Epoch: 180. T, V acc: 99.6%, 41.1%. Took: 5.77s\n",
      "Epoch: 181. T, V acc: 99.7%, 40.7%. Took: 5.76s\n",
      "Epoch: 182. T, V acc: 99.6%, 40.0%. Took: 5.77s\n",
      "Epoch: 183. T, V acc: 99.7%, 40.0%. Took: 5.79s\n",
      "Epoch: 184. T, V acc: 99.7%, 40.1%. Took: 5.77s\n",
      "Epoch: 185. T, V acc: 99.8%, 40.0%. Took: 5.76s\n",
      "Epoch: 186. T, V acc: 99.7%, 40.3%. Took: 5.77s\n",
      "Epoch: 187. T, V acc: 99.6%, 39.9%. Took: 5.78s\n",
      "Epoch: 188. T, V acc: 99.7%, 40.1%. Took: 5.75s\n",
      "Epoch: 189. T, V acc: 99.7%, 40.4%. Took: 5.80s\n",
      "Epoch: 190. T, V acc: 99.7%, 39.9%. Took: 5.76s\n",
      "Epoch: 191. T, V acc: 99.7%, 39.9%. Took: 5.77s\n",
      "Epoch: 192. T, V acc: 99.7%, 40.8%. Took: 5.77s\n",
      "Epoch: 193. T, V acc: 99.8%, 40.6%. Took: 5.77s\n",
      "Epoch: 194. T, V acc: 99.8%, 40.2%. Took: 5.73s\n",
      "Epoch: 195. T, V acc: 99.7%, 39.3%. Took: 5.73s\n",
      "Epoch: 196. T, V acc: 99.8%, 40.0%. Took: 5.74s\n",
      "Epoch: 197. T, V acc: 99.8%, 39.9%. Took: 5.74s\n",
      "Epoch: 198. T, V acc: 99.8%, 40.5%. Took: 5.70s\n",
      "Epoch: 199. T, V acc: 99.8%, 40.1%. Took: 5.75s\n",
      "Epoch: 200. T, V acc: 99.6%, 40.3%. Took: 5.73s\n",
      "Epoch: 201. T, V acc: 99.7%, 41.0%. Took: 5.74s\n",
      "Epoch: 202. T, V acc: 99.7%, 40.0%. Took: 5.70s\n",
      "Epoch: 203. T, V acc: 99.7%, 39.8%. Took: 5.74s\n",
      "Epoch: 204. T, V acc: 99.3%, 40.4%. Took: 5.73s\n",
      "Epoch: 205. T, V acc: 99.5%, 40.3%. Took: 5.68s\n",
      "Epoch: 206. T, V acc: 99.6%, 40.1%. Took: 5.72s\n",
      "Epoch: 207. T, V acc: 99.6%, 40.5%. Took: 5.76s\n",
      "Epoch: 208. T, V acc: 99.5%, 38.5%. Took: 5.71s\n",
      "Epoch: 209. T, V acc: 99.4%, 39.9%. Took: 5.79s\n",
      "Epoch: 210. T, V acc: 99.7%, 40.2%. Took: 5.74s\n",
      "Epoch: 211. T, V acc: 99.8%, 40.3%. Took: 5.76s\n",
      "Epoch: 212. T, V acc: 99.6%, 40.0%. Took: 5.75s\n",
      "Epoch: 213. T, V acc: 99.7%, 40.2%. Took: 5.76s\n",
      "Epoch: 214. T, V acc: 99.8%, 40.3%. Took: 5.76s\n",
      "Epoch: 215. T, V acc: 99.8%, 40.2%. Took: 5.77s\n",
      "Epoch: 216. T, V acc: 99.8%, 40.2%. Took: 5.77s\n",
      "Epoch: 217. T, V acc: 99.8%, 40.4%. Took: 5.77s\n",
      "Epoch: 218. T, V acc: 99.8%, 40.6%. Took: 5.75s\n",
      "Epoch: 219. T, V acc: 99.8%, 40.2%. Took: 5.74s\n",
      "Epoch: 220. T, V acc: 99.8%, 40.4%. Took: 5.76s\n",
      "Epoch: 221. T, V acc: 99.8%, 40.3%. Took: 5.77s\n",
      "Epoch: 222. T, V acc: 99.8%, 40.3%. Took: 5.75s\n",
      "Epoch: 223. T, V acc: 99.8%, 40.3%. Took: 5.75s\n",
      "Epoch: 224. T, V acc: 99.8%, 40.7%. Took: 5.74s\n",
      "Epoch: 225. T, V acc: 99.8%, 40.3%. Took: 5.72s\n",
      "Epoch: 226. T, V acc: 99.8%, 40.3%. Took: 5.76s\n",
      "Epoch: 227. T, V acc: 99.8%, 40.0%. Took: 5.75s\n",
      "Epoch: 228. T, V acc: 99.8%, 40.4%. Took: 5.75s\n",
      "Epoch: 229. T, V acc: 99.8%, 40.5%. Took: 5.75s\n",
      "Epoch: 230. T, V acc: 99.8%, 39.9%. Took: 5.75s\n",
      "Epoch: 231. T, V acc: 99.8%, 40.2%. Took: 5.74s\n",
      "Epoch: 232. T, V acc: 99.8%, 40.5%. Took: 5.74s\n",
      "Epoch: 233. T, V acc: 99.8%, 40.5%. Took: 5.76s\n",
      "Epoch: 234. T, V acc: 99.7%, 40.6%. Took: 5.76s\n",
      "Epoch: 235. T, V acc: 99.8%, 40.3%. Took: 5.71s\n",
      "Epoch: 236. T, V acc: 99.7%, 39.9%. Took: 5.75s\n",
      "Epoch: 237. T, V acc: 99.7%, 39.8%. Took: 5.77s\n",
      "Epoch: 238. T, V acc: 99.7%, 40.4%. Took: 5.75s\n",
      "Epoch: 239. T, V acc: 99.8%, 40.8%. Took: 5.78s\n",
      "Epoch: 240. T, V acc: 99.7%, 40.7%. Took: 5.76s\n",
      "Epoch: 241. T, V acc: 99.7%, 40.0%. Took: 5.75s\n",
      "Epoch: 242. T, V acc: 99.8%, 40.9%. Took: 5.72s\n",
      "Epoch: 243. T, V acc: 99.8%, 40.4%. Took: 5.77s\n",
      "Epoch: 244. T, V acc: 99.8%, 40.2%. Took: 5.75s\n",
      "Epoch: 245. T, V acc: 99.8%, 39.9%. Took: 5.73s\n",
      "Epoch: 246. T, V acc: 99.7%, 40.4%. Took: 5.74s\n",
      "Epoch: 247. T, V acc: 99.7%, 39.7%. Took: 5.74s\n",
      "Epoch: 248. T, V acc: 99.7%, 40.2%. Took: 5.70s\n",
      "Epoch: 249. T, V acc: 99.7%, 40.0%. Took: 5.71s\n",
      "Epoch: 250. T, V acc: 99.7%, 40.5%. Took: 5.74s\n",
      "Epoch: 251. T, V acc: 99.7%, 40.9%. Took: 5.72s\n",
      "Epoch: 252. T, V acc: 99.7%, 41.0%. Took: 5.72s\n",
      "Epoch: 253. T, V acc: 99.7%, 40.7%. Took: 5.72s\n",
      "Epoch: 254. T, V acc: 99.8%, 40.8%. Took: 5.73s\n",
      "Epoch: 255. T, V acc: 99.7%, 40.6%. Took: 5.74s\n",
      "Epoch: 256. T, V acc: 99.7%, 40.2%. Took: 5.72s\n",
      "Epoch: 257. T, V acc: 99.8%, 40.2%. Took: 5.73s\n",
      "Epoch: 258. T, V acc: 99.7%, 41.1%. Took: 5.74s\n",
      "Epoch: 259. T, V acc: 99.8%, 40.8%. Took: 5.73s\n",
      "Epoch: 260. T, V acc: 99.8%, 40.7%. Took: 5.73s\n",
      "Epoch: 261. T, V acc: 99.8%, 40.3%. Took: 5.74s\n",
      "Epoch: 262. T, V acc: 99.7%, 40.3%. Took: 5.73s\n",
      "Epoch: 263. T, V acc: 99.8%, 40.1%. Took: 5.72s\n",
      "Epoch: 264. T, V acc: 99.8%, 40.9%. Took: 5.73s\n",
      "Epoch: 265. T, V acc: 99.7%, 40.6%. Took: 5.77s\n",
      "Epoch: 266. T, V acc: 99.6%, 40.5%. Took: 5.75s\n",
      "Epoch: 267. T, V acc: 99.7%, 41.1%. Took: 5.72s\n",
      "Epoch: 268. T, V acc: 99.7%, 40.8%. Took: 5.73s\n",
      "Epoch: 269. T, V acc: 99.7%, 40.0%. Took: 5.70s\n",
      "Epoch: 270. T, V acc: 99.7%, 39.4%. Took: 5.75s\n",
      "Epoch: 271. T, V acc: 99.6%, 40.7%. Took: 5.72s\n",
      "Epoch: 272. T, V acc: 99.7%, 39.6%. Took: 5.74s\n",
      "Epoch: 273. T, V acc: 99.7%, 40.0%. Took: 5.74s\n",
      "Epoch: 274. T, V acc: 99.7%, 40.4%. Took: 5.72s\n",
      "Epoch: 275. T, V acc: 99.8%, 41.1%. Took: 5.72s\n",
      "Epoch: 276. T, V acc: 99.8%, 40.8%. Took: 5.72s\n",
      "Epoch: 277. T, V acc: 99.8%, 40.6%. Took: 5.71s\n",
      "Epoch: 278. T, V acc: 99.8%, 40.2%. Took: 5.73s\n",
      "Epoch: 279. T, V acc: 99.8%, 40.9%. Took: 5.73s\n",
      "Epoch: 280. T, V acc: 99.8%, 40.7%. Took: 5.74s\n",
      "Epoch: 281. T, V acc: 99.8%, 40.5%. Took: 5.74s\n",
      "Epoch: 282. T, V acc: 99.8%, 40.5%. Took: 5.73s\n",
      "Epoch: 283. T, V acc: 99.8%, 40.7%. Took: 5.76s\n",
      "Epoch: 284. T, V acc: 99.8%, 41.2%. Took: 5.71s\n",
      "Epoch: 285. T, V acc: 99.8%, 40.7%. Took: 5.73s\n",
      "Epoch: 286. T, V acc: 99.8%, 40.7%. Took: 5.72s\n",
      "Epoch: 287. T, V acc: 99.8%, 40.7%. Took: 5.72s\n",
      "Epoch: 288. T, V acc: 99.8%, 40.5%. Took: 5.70s\n",
      "Epoch: 289. T, V acc: 99.8%, 40.8%. Took: 5.70s\n",
      "Epoch: 290. T, V acc: 99.8%, 40.7%. Took: 5.72s\n",
      "Epoch: 291. T, V acc: 99.8%, 41.0%. Took: 5.73s\n",
      "Epoch: 292. T, V acc: 99.8%, 40.4%. Took: 5.68s\n",
      "Epoch: 293. T, V acc: 99.8%, 40.0%. Took: 5.69s\n",
      "Epoch: 294. T, V acc: 99.8%, 41.0%. Took: 5.70s\n",
      "Epoch: 295. T, V acc: 99.6%, 39.6%. Took: 5.70s\n",
      "Epoch: 296. T, V acc: 99.6%, 40.4%. Took: 5.72s\n",
      "Epoch: 297. T, V acc: 99.6%, 39.8%. Took: 5.71s\n",
      "Epoch: 298. T, V acc: 99.7%, 40.2%. Took: 5.72s\n",
      "Epoch: 299. T, V acc: 99.7%, 40.8%. Took: 5.73s\n",
      "Epoch: 300. T, V acc: 99.7%, 40.9%. Took: 5.74s\n",
      "Epoch: 301. T, V acc: 99.7%, 40.8%. Took: 5.71s\n",
      "Epoch: 302. T, V acc: 99.7%, 40.3%. Took: 5.71s\n",
      "Epoch: 303. T, V acc: 99.7%, 40.1%. Took: 5.70s\n",
      "Epoch: 304. T, V acc: 99.7%, 40.7%. Took: 5.73s\n",
      "Epoch: 305. T, V acc: 99.8%, 40.3%. Took: 5.74s\n",
      "Epoch: 306. T, V acc: 99.8%, 40.5%. Took: 5.75s\n",
      "Epoch: 307. T, V acc: 99.8%, 40.6%. Took: 5.72s\n",
      "Epoch: 308. T, V acc: 99.7%, 40.3%. Took: 5.71s\n",
      "Epoch: 309. T, V acc: 99.8%, 40.7%. Took: 5.72s\n",
      "Epoch: 310. T, V acc: 99.7%, 40.5%. Took: 5.73s\n",
      "Epoch: 311. T, V acc: 99.8%, 40.7%. Took: 5.73s\n",
      "Epoch: 312. T, V acc: 99.8%, 40.6%. Took: 5.74s\n",
      "Epoch: 313. T, V acc: 99.8%, 40.9%. Took: 5.71s\n",
      "Epoch: 314. T, V acc: 99.8%, 41.0%. Took: 5.74s\n",
      "Epoch: 315. T, V acc: 99.8%, 40.8%. Took: 5.73s\n",
      "Epoch: 316. T, V acc: 99.8%, 40.6%. Took: 5.72s\n",
      "Epoch: 317. T, V acc: 99.8%, 41.0%. Took: 5.71s\n",
      "Epoch: 318. T, V acc: 99.8%, 40.1%. Took: 5.73s\n",
      "Epoch: 319. T, V acc: 99.8%, 40.6%. Took: 5.77s\n",
      "Epoch: 320. T, V acc: 99.7%, 40.4%. Took: 5.72s\n",
      "Epoch: 321. T, V acc: 99.7%, 39.8%. Took: 5.74s\n",
      "Epoch: 322. T, V acc: 99.7%, 39.9%. Took: 5.73s\n",
      "Epoch: 323. T, V acc: 99.7%, 40.9%. Took: 5.73s\n",
      "Epoch: 324. T, V acc: 99.7%, 40.8%. Took: 5.72s\n",
      "Epoch: 325. T, V acc: 99.8%, 40.2%. Took: 5.74s\n",
      "Epoch: 326. T, V acc: 99.8%, 40.0%. Took: 5.74s\n",
      "Epoch: 327. T, V acc: 99.7%, 40.0%. Took: 5.73s\n",
      "Epoch: 328. T, V acc: 99.7%, 39.4%. Took: 5.72s\n",
      "Epoch: 329. T, V acc: 99.7%, 39.9%. Took: 5.71s\n",
      "Epoch: 330. T, V acc: 99.8%, 40.5%. Took: 5.72s\n",
      "Epoch: 331. T, V acc: 99.8%, 40.5%. Took: 5.72s\n",
      "Epoch: 332. T, V acc: 99.8%, 40.1%. Took: 5.70s\n",
      "Epoch: 333. T, V acc: 99.8%, 40.8%. Took: 5.71s\n",
      "Epoch: 334. T, V acc: 99.8%, 40.8%. Took: 5.71s\n",
      "Epoch: 335. T, V acc: 99.7%, 40.9%. Took: 5.70s\n",
      "Epoch: 336. T, V acc: 99.8%, 40.3%. Took: 5.71s\n",
      "Epoch: 337. T, V acc: 99.8%, 40.6%. Took: 5.69s\n",
      "Epoch: 338. T, V acc: 99.8%, 39.3%. Took: 5.72s\n",
      "Epoch: 339. T, V acc: 99.8%, 40.5%. Took: 5.73s\n",
      "Epoch: 340. T, V acc: 99.7%, 41.0%. Took: 5.73s\n",
      "Epoch: 341. T, V acc: 99.7%, 40.7%. Took: 5.71s\n"
     ]
    },
    {
     "name": "stdout",
     "output_type": "stream",
     "text": [
      "Epoch: 342. T, V acc: 99.8%, 40.8%. Took: 5.73s\n",
      "Epoch: 343. T, V acc: 99.7%, 41.3%. Took: 5.69s\n",
      "Epoch: 344. T, V acc: 99.8%, 40.4%. Took: 5.72s\n",
      "Epoch: 345. T, V acc: 99.7%, 40.3%. Took: 5.71s\n",
      "Epoch: 346. T, V acc: 99.7%, 40.8%. Took: 5.75s\n",
      "Epoch: 347. T, V acc: 99.7%, 40.8%. Took: 5.72s\n",
      "Epoch: 348. T, V acc: 99.8%, 41.0%. Took: 5.72s\n",
      "Epoch: 349. T, V acc: 99.8%, 40.8%. Took: 5.74s\n",
      "Epoch: 350. T, V acc: 99.8%, 40.2%. Took: 5.73s\n",
      "Epoch: 351. T, V acc: 99.8%, 41.2%. Took: 5.80s\n",
      "Epoch: 352. T, V acc: 99.8%, 41.3%. Took: 5.73s\n",
      "Epoch: 353. T, V acc: 99.8%, 40.1%. Took: 5.72s\n",
      "Epoch: 354. T, V acc: 99.8%, 41.0%. Took: 5.72s\n",
      "Epoch: 355. T, V acc: 99.8%, 40.2%. Took: 5.71s\n",
      "Epoch: 356. T, V acc: 99.8%, 40.8%. Took: 5.72s\n",
      "Epoch: 357. T, V acc: 99.8%, 40.3%. Took: 5.70s\n",
      "Epoch: 358. T, V acc: 99.8%, 40.6%. Took: 5.72s\n",
      "Epoch: 359. T, V acc: 99.8%, 40.6%. Took: 5.76s\n",
      "Epoch: 360. T, V acc: 99.8%, 40.5%. Took: 5.73s\n",
      "Epoch: 361. T, V acc: 99.8%, 41.1%. Took: 5.73s\n",
      "Epoch: 362. T, V acc: 99.8%, 40.4%. Took: 5.73s\n",
      "Epoch: 363. T, V acc: 99.8%, 40.6%. Took: 5.73s\n",
      "Epoch: 364. T, V acc: 99.7%, 39.6%. Took: 5.73s\n",
      "Epoch: 365. T, V acc: 99.7%, 39.4%. Took: 5.73s\n",
      "Epoch: 366. T, V acc: 99.8%, 41.1%. Took: 5.73s\n",
      "Epoch: 367. T, V acc: 99.7%, 40.8%. Took: 5.74s\n",
      "Epoch: 368. T, V acc: 99.8%, 40.7%. Took: 5.71s\n",
      "Epoch: 369. T, V acc: 99.8%, 40.7%. Took: 5.72s\n",
      "Epoch: 370. T, V acc: 99.8%, 41.0%. Took: 5.73s\n",
      "Epoch: 371. T, V acc: 99.8%, 40.8%. Took: 5.70s\n",
      "Epoch: 372. T, V acc: 99.8%, 40.3%. Took: 5.70s\n",
      "Epoch: 373. T, V acc: 99.8%, 40.5%. Took: 5.73s\n",
      "Epoch: 374. T, V acc: 99.7%, 40.9%. Took: 5.74s\n",
      "Epoch: 375. T, V acc: 99.8%, 40.6%. Took: 5.70s\n",
      "Epoch: 376. T, V acc: 99.8%, 41.1%. Took: 5.71s\n",
      "Epoch: 377. T, V acc: 99.8%, 40.2%. Took: 5.71s\n",
      "Epoch: 378. T, V acc: 99.8%, 40.6%. Took: 5.75s\n",
      "Epoch: 379. T, V acc: 99.8%, 40.9%. Took: 5.74s\n",
      "Epoch: 380. T, V acc: 99.8%, 40.4%. Took: 5.75s\n",
      "Epoch: 381. T, V acc: 99.8%, 40.9%. Took: 5.71s\n",
      "Epoch: 382. T, V acc: 99.8%, 40.6%. Took: 5.73s\n",
      "Epoch: 383. T, V acc: 99.8%, 40.9%. Took: 5.75s\n",
      "Epoch: 384. T, V acc: 99.8%, 41.3%. Took: 5.73s\n",
      "Epoch: 385. T, V acc: 99.8%, 40.5%. Took: 5.72s\n",
      "Epoch: 386. T, V acc: 99.8%, 40.2%. Took: 5.72s\n",
      "Epoch: 387. T, V acc: 99.8%, 41.0%. Took: 5.72s\n",
      "Epoch: 388. T, V acc: 99.8%, 39.9%. Took: 5.73s\n",
      "Epoch: 389. T, V acc: 99.8%, 40.9%. Took: 5.74s\n",
      "Epoch: 390. T, V acc: 99.8%, 41.0%. Took: 5.74s\n",
      "Epoch: 391. T, V acc: 99.8%, 41.2%. Took: 5.73s\n",
      "Epoch: 392. T, V acc: 99.7%, 40.8%. Took: 5.75s\n",
      "Epoch: 393. T, V acc: 99.7%, 40.3%. Took: 5.73s\n",
      "Epoch: 394. T, V acc: 99.8%, 40.5%. Took: 5.75s\n",
      "Epoch: 395. T, V acc: 99.8%, 40.8%. Took: 5.73s\n",
      "Epoch: 396. T, V acc: 99.8%, 41.5%. Took: 5.73s\n",
      "Epoch: 397. T, V acc: 99.8%, 41.0%. Took: 5.73s\n",
      "Epoch: 398. T, V acc: 99.8%, 41.4%. Took: 5.70s\n",
      "Epoch: 399. T, V acc: 99.8%, 41.7%. Took: 5.70s\n",
      "Epoch: 400. T, V acc: 99.8%, 41.3%. Took: 5.71s\n",
      "Trained rnn_hidden-128_nlayers-3, 400 epochs, for: 2293.72s\n"
     ]
    },
    {
     "data": {
      "image/png": "[encoded data removed]",
      "text/plain": [
       "<Figure size 1440x576 with 1 Axes>"
      ]
     },
     "metadata": {
      "needs_background": "light"
     },
     "output_type": "display_data"
    }
   ],
   "source": [
    "for train_set in train_sets:\n",
    "    train_set.init()\n",
    "    train_info = train_set.do_training()\n",
    "    \n",
    "    train_info.save(f\"info_{train_set.name}.pickle\")\n",
    "    \n",
    "    # plot loss data\n",
    "    fig, ax = plt.subplots(figsize=(20, 8))\n",
    "    ax_train = ax.plot(list(range(train_set.n_epochs)), train_info.train[\"loss\"], label=\"train\")\n",
    "    ax_valid = ax.plot(list(range(train_set.n_epochs)), train_info.valid[\"loss\"], label=\"valid\")\n",
    "    fig.legend()\n",
    "    fig.suptitle(\"Validation loss\")\n",
    "    plt.show()"
   ]
  },
  {
   "cell_type": "markdown",
   "metadata": {},
   "source": [
    "## save/load embeddings"
   ]
  },
  {
   "cell_type": "code",
   "execution_count": 189,
   "metadata": {},
   "outputs": [],
   "source": [
    "def save_vocab_embedding(path, vocab, embedding):\n",
    "    with open(path, \"w\") as f:\n",
    "        for word, vector in tqdm.tqdm(zip(vocab.itos, embedding)):\n",
    "            \n",
    "            # skip words with unicode symbols\n",
    "            if len(word) != len(word.encode()):\n",
    "                continue\n",
    "            \n",
    "            # 'words' like \" \" or \"\\n\" fail to be loaded\n",
    "            if word.strip() == \"\":\n",
    "                continue\n",
    "\n",
    "            f.write(f\"{word} {' '.join(str(e) for e in vector.tolist())}\\n\")"
   ]
  },
  {
   "cell_type": "code",
   "execution_count": 88,
   "metadata": {},
   "outputs": [],
   "source": [
    "def load_context(model, field, path_model, path_vocab, cache_embeddings=\"cache_embeddings\", device=DEVICE):\n",
    "    _vectors = torchtext.vocab.Vectors(path_vocab, cache_embeddings)  # voir unk_init\n",
    "    field.build_vocab(data_train, max_size=VOCAB_MAX_SIZE, vectors=_vectors)\n",
    "    \n",
    "    model.load_state_dict(torch.load(path_model))\n",
    "    \n",
    "    model = model.to(device)\n",
    "    \n",
    "    model.embedding.weight.data.copy_(field.vocab.vectors)\n",
    "    \n",
    "    iter_train, iter_valid, iter_test = \\\n",
    "        torchtext.data.BucketIterator.splits(datasets=(data_train, data_valid, data_test),\n",
    "                                             batch_size=BATCH_SIZE,\n",
    "                                             device=DEVICE,\n",
    "                                             sort_within_batch=True,\n",
    "                                             sort_key=lambda example: len(example.input),\n",
    "                                             sort=False)\n",
    "    \n",
    "    return model, (iter_train, iter_valid, iter_test)"
   ]
  },
  {
   "cell_type": "code",
   "execution_count": 187,
   "metadata": {},
   "outputs": [
    {
     "name": "stderr",
     "output_type": "stream",
     "text": [
      "50002it [00:09, 5393.37it/s]\n"
     ]
    }
   ],
   "source": [
    "save_vocab_embedding(\"vocab_emb\", TEXT.vocab, model.embedding.weight)"
   ]
  },
  {
   "cell_type": "code",
   "execution_count": 190,
   "metadata": {},
   "outputs": [],
   "source": [
    "model, iters = load_context(default_model(hidden_dim=128, n_layers=3),\n",
    "                            TEXT,\n",
    "                            \"rnn_hidden-128_nlayers-3.pt\",\n",
    "                            \"vocab_emb\")\n",
    "iter_train, iter_valid, iter_test = iters"
   ]
  },
  {
   "cell_type": "markdown",
   "metadata": {},
   "source": [
    "## Peeking"
   ]
  },
  {
   "cell_type": "code",
   "execution_count": 27,
   "metadata": {},
   "outputs": [],
   "source": [
    "import spacy\n",
    "\n",
    "nlp = spacy.load('fr_core_news_sm')"
   ]
  },
  {
   "cell_type": "code",
   "execution_count": 28,
   "metadata": {},
   "outputs": [],
   "source": [
    "def predict_tokens(tokens, model, device=DEVICE):\n",
    "    model.eval()\n",
    "    idxs = [TEXT.vocab.stoi[t] for t in tokens]\n",
    "    inp = torch.LongTensor(idxs).reshape(-1, 1).to(device)\n",
    "    output = output_to_pred(model((inp, torch.LongTensor([len(tokens)]))))\n",
    "    return output.item()\n",
    "\n",
    "\n",
    "def predict(sentence, model):\n",
    "    return predict_tokens(list(map(str, nlp.tokenizer(sentence))), model)"
   ]
  },
  {
   "cell_type": "code",
   "execution_count": 42,
   "metadata": {},
   "outputs": [],
   "source": [
    "model = default_model(hidden_dim=128, n_layers=3)"
   ]
  },
  {
   "cell_type": "code",
   "execution_count": 43,
   "metadata": {},
   "outputs": [
    {
     "data": {
      "text/plain": [
       "<All keys matched successfully>"
      ]
     },
     "execution_count": 43,
     "metadata": {},
     "output_type": "execute_result"
    }
   ],
   "source": [
    "model.load_state_dict(torch.load('rnn_hidden-128_nlayers-3.pt'))"
   ]
  },
  {
   "cell_type": "code",
   "execution_count": 44,
   "metadata": {},
   "outputs": [],
   "source": [
    "model = model.to(DEVICE)"
   ]
  },
  {
   "cell_type": "code",
   "execution_count": 197,
   "metadata": {},
   "outputs": [
    {
     "data": {
      "text/plain": [
       "(3.0, 4.0)"
      ]
     },
     "execution_count": 197,
     "metadata": {},
     "output_type": "execute_result"
    }
   ],
   "source": [
    "predict(\"Du temps perdu.\", model), \\\n",
    "predict(\"Un très bon film, à voir avec toute la famille.\", model)"
   ]
  },
  {
   "cell_type": "code",
   "execution_count": 198,
   "metadata": {},
   "outputs": [
    {
     "name": "stdout",
     "output_type": "stream",
     "text": [
      "Oeuvre de réconciliation et d' amour , ce \" Pinocchio \" suscite des Oh ! et des Ah ! , de notre admiration .\n",
      "true) 4.0 - 4.5 (pred\n",
      "Alexeï Guerman a consacré treize années à cette adaptation du roman de science - fiction des frères Strougatski , pour une mise en scène impressionnante . Mais aussi fort dérangeante tant elle malmène le spectateur .\n",
      "true) 3.0 - 3.5 (pred\n",
      "Dans cette chronique sombre et kafkaïenne , on lit la rage contenue et la détermination absolue sur le visage rugueux de son acteur , double d’ un réalisateur muselé par la censure .\n",
      "true) 4.0 - 4.0 (pred\n"
     ]
    }
   ],
   "source": [
    "for example in random.sample(list(data_train), 3):\n",
    "    tokens, note = example.input, float(example.target)\n",
    "    print(\" \".join(tokens))\n",
    "    print(f\"true) {note * 5} - {predict_tokens(tokens, model)} (pred\")"
   ]
  },
  {
   "cell_type": "markdown",
   "metadata": {},
   "source": [
    "## Testing predictions on extremal marks"
   ]
  },
  {
   "cell_type": "markdown",
   "metadata": {},
   "source": [
    "Is the model really doing bad if it predicts a 4.5 instead of a 5 ? There are at least two ways to allow for forgivable divergence with the test data :\n",
    "* decrease notation's granularity, e.g. tranform the marks into good/bad, or good/bad/neutral.\n",
    "* consider a prediction correct if it belongs to a 'small' interval containing the true value."
   ]
  },
  {
   "cell_type": "markdown",
   "metadata": {},
   "source": [
    "### Good/Neutral/Bad prediction"
   ]
  },
  {
   "cell_type": "code",
   "execution_count": 93,
   "metadata": {},
   "outputs": [],
   "source": [
    "def normalized_to_3_way(pred_tensor, bad_treshold=.375, good_treshold=.625):\n",
    "    \"\"\"np array with values: 0: bad, 1: neutral, 2: good\"\"\"\n",
    "    return np.digitize(pred_tensor.cpu().detach().numpy(), [bad_treshold, good_treshold])\n",
    "    \n",
    "def eval_accuracy_3w(model, iterator):\n",
    "    n_examples = 0\n",
    "    n_success = 0\n",
    "    for batch in iterator:\n",
    "        predictions = model(batch.input).squeeze(1)\n",
    "        n_examples += len(batch)\n",
    "        n_success += sum(normalized_to_3_way(predictions) == normalized_to_3_way(batch.target))\n",
    "    return n_success / n_examples\n",
    "\n",
    "def classif_report_3w(model, iterator):\n",
    "    def preds_and_trues_to_array(predictions, true_targets):\n",
    "        return np.concatenate([normalized_to_3_way(true_targets).reshape(-1, 1),\n",
    "                               normalized_to_3_way(predictions).reshape(-1, 1)], axis=1)\n",
    "    \n",
    "    array = None\n",
    "    for batch in iterator:\n",
    "        predictions = model(batch.input).squeeze(1)\n",
    "        \n",
    "        if array is None:\n",
    "            array = preds_and_trues_to_array(predictions, batch.target)\n",
    "        else:\n",
    "            array = np.concatenate([array,\n",
    "                                    preds_and_trues_to_array(predictions, batch.target)], axis=0)\n",
    "    print(sklearn.metrics.classification_report(array[:, 0],\n",
    "                                                array[:, 1],\n",
    "                                                labels=[0, 1, 2],\n",
    "                                                target_names=[\"bad\", \"neutral\", \"good\"]))"
   ]
  },
  {
   "cell_type": "code",
   "execution_count": 199,
   "metadata": {},
   "outputs": [
    {
     "name": "stdout",
     "output_type": "stream",
     "text": [
      "              precision    recall  f1-score   support\n",
      "\n",
      "         bad       0.40      0.26      0.32      1713\n",
      "     neutral       0.66      0.50      0.57      9792\n",
      "        good       0.66      0.85      0.74     10571\n",
      "\n",
      "    accuracy                           0.65     22076\n",
      "   macro avg       0.58      0.54      0.54     22076\n",
      "weighted avg       0.64      0.65      0.63     22076\n",
      "\n"
     ]
    }
   ],
   "source": [
    "iterator = iter_test\n",
    "\n",
    "classif_report_3w(model, iterator)\n"
   ]
  },
  {
   "cell_type": "markdown",
   "metadata": {},
   "source": [
    "### Fuzzy accuracy"
   ]
  },
  {
   "cell_type": "code",
   "execution_count": 40,
   "metadata": {},
   "outputs": [],
   "source": [
    "def eval_accuracy_fuzzy(model, iterator, fuzziness=.1):\n",
    "    n_examples = 0.\n",
    "    n_success = 0.\n",
    "    for batch in iterator:\n",
    "        predictions = model(batch.input).squeeze(1)\n",
    "        n_examples += len(batch)\n",
    "        n_success += sum(torch.abs(predictions - batch.target) <= fuzziness).item()\n",
    "    return n_success / n_examples"
   ]
  },
  {
   "cell_type": "code",
   "execution_count": 201,
   "metadata": {},
   "outputs": [
    {
     "data": {
      "text/plain": [
       "0.7527178836745787"
      ]
     },
     "execution_count": 201,
     "metadata": {},
     "output_type": "execute_result"
    }
   ],
   "source": [
    "eval_accuracy_fuzzy(model, iter_test, fuzziness=.2)"
   ]
  }
 ],
 "metadata": {
  "kernelspec": {
   "display_name": "Python 3",
   "language": "python",
   "name": "python3"
  },
  "language_info": {
   "codemirror_mode": {
    "name": "ipython",
    "version": 3
   },
   "file_extension": ".py",
   "mimetype": "text/x-python",
   "name": "python",
   "nbconvert_exporter": "python",
   "pygments_lexer": "ipython3",
   "version": "3.6.9"
  }
 },
 "nbformat": 4,
 "nbformat_minor": 2
}
