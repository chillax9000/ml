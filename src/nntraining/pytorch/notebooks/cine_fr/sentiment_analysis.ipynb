{
 "cells": [
  {
   "cell_type": "code",
   "execution_count": 9,
   "metadata": {},
   "outputs": [],
   "source": [
    "import pandas as pd\n",
    "import os"
   ]
  },
  {
   "cell_type": "code",
   "execution_count": 10,
   "metadata": {},
   "outputs": [],
   "source": [
    "import random\n",
    "import matplotlib.pyplot as plt\n",
    "import collections\n",
    "import numpy as np\n",
    "import operator\n",
    "import simpleclock\n",
    "import sklearn.metrics"
   ]
  },
  {
   "cell_type": "code",
   "execution_count": 12,
   "metadata": {},
   "outputs": [],
   "source": [
    "import torch\n",
    "import torchtext"
   ]
  },
  {
   "cell_type": "markdown",
   "metadata": {},
   "source": [
    "## Dataset, iterators"
   ]
  },
  {
   "cell_type": "code",
   "execution_count": 11,
   "metadata": {},
   "outputs": [],
   "source": [
    "data_path = os.path.join(os.path.abspath(''), \"data_cine_cleaned.csv\")"
   ]
  },
  {
   "cell_type": "code",
   "execution_count": 13,
   "metadata": {},
   "outputs": [],
   "source": [
    "TEXT = torchtext.data.Field(tokenize = \"spacy\",\n",
    "                            tokenizer_language=\"fr_core_news_sm\",\n",
    "                            include_lengths=True)\n",
    "LABEL = torchtext.data.LabelField(dtype=torch.float, use_vocab=False)"
   ]
  },
  {
   "cell_type": "code",
   "execution_count": 14,
   "metadata": {},
   "outputs": [],
   "source": [
    "dataset = torchtext.data.TabularDataset(path=data_path,\n",
    "                                        format=\"CSV\",\n",
    "                                        fields={\"critique\": (\"critique\", TEXT), \"note\": (\"note\", LABEL)})"
   ]
  },
  {
   "cell_type": "code",
   "execution_count": 15,
   "metadata": {},
   "outputs": [],
   "source": [
    "data_train, data_test = dataset.split()"
   ]
  },
  {
   "cell_type": "code",
   "execution_count": 16,
   "metadata": {},
   "outputs": [],
   "source": [
    "data_train, data_valid = data_train.split()"
   ]
  },
  {
   "cell_type": "code",
   "execution_count": 17,
   "metadata": {},
   "outputs": [
    {
     "name": "stdout",
     "output_type": "stream",
     "text": [
      "training data: 36057 examples.\n",
      "validation data: 15453 examples.\n",
      "test data: 22076 examples.\n"
     ]
    }
   ],
   "source": [
    "print(f\"\"\"training data: {len(data_train)} examples.\n",
    "validation data: {len(data_valid)} examples.\n",
    "test data: {len(data_test)} examples.\"\"\")"
   ]
  },
  {
   "cell_type": "code",
   "execution_count": 18,
   "metadata": {},
   "outputs": [],
   "source": [
    "vectors = torchtext.vocab.Vectors(\"cc.fr.300.vec\", os.path.join(os.path.expanduser(\"~\"), \"Downloads\"))"
   ]
  },
  {
   "cell_type": "code",
   "execution_count": 19,
   "metadata": {},
   "outputs": [],
   "source": [
    "VOCAB_MAX_SIZE = 50000\n",
    "TEXT.build_vocab(data_train, max_size=VOCAB_MAX_SIZE, vectors=vectors)"
   ]
  },
  {
   "cell_type": "code",
   "execution_count": 20,
   "metadata": {},
   "outputs": [],
   "source": [
    "device = torch.device(\"cuda\")"
   ]
  },
  {
   "cell_type": "code",
   "execution_count": 21,
   "metadata": {},
   "outputs": [],
   "source": [
    "BATCH_SIZE = 64"
   ]
  },
  {
   "cell_type": "code",
   "execution_count": 22,
   "metadata": {},
   "outputs": [],
   "source": [
    "iter_train, iter_valid, iter_test = \\\n",
    "    torchtext.data.BucketIterator.splits(datasets=(data_train, data_valid, data_test),\n",
    "                                         batch_size=BATCH_SIZE,\n",
    "                                         device=device,\n",
    "                                         sort_within_batch=True,\n",
    "                                         sort_key=lambda example: len(example.critique),\n",
    "                                         sort=False)"
   ]
  },
  {
   "cell_type": "markdown",
   "metadata": {},
   "source": [
    "## Model definition and training"
   ]
  },
  {
   "cell_type": "code",
   "execution_count": 23,
   "metadata": {},
   "outputs": [],
   "source": [
    "class RNN(torch.nn.Module):\n",
    "    def __init__(self, n_vocab, embedding_dim, hidden_dim, output_dim, dropout, pad_idx):\n",
    "        super().__init__()\n",
    "        \n",
    "        self.embedding = torch.nn.Embedding(n_vocab, embedding_dim, padding_idx = pad_idx)\n",
    "        self.rnn = torch.nn.LSTM(embedding_dim,\n",
    "                                 hidden_dim,\n",
    "                                 bidirectional=True,\n",
    "                                 num_layers=2)\n",
    "        self.fc = torch.nn.Linear(hidden_dim * 2, output_dim)\n",
    "        self.dropout = torch.nn.Dropout(dropout)\n",
    "        self.sigmoid = torch.nn.Sigmoid()\n",
    "        \n",
    "    def forward(self, input, lengths):\n",
    "        torch.nn.utils.rnn.pack_padded_sequence(input, lengths)\n",
    "        embedded = self.embedding(input)  # ((sent_len, batch_size), emb_dim)\n",
    "        packed_output, (hidden, cell) = self.rnn(embedded)  # hidden: (num_layers * num_directions, batch, hidden_size)\n",
    "        return self.sigmoid(self.fc(self.dropout(\n",
    "            torch.cat([hidden[-2, :, :], hidden[-1, :, :]], dim=1).squeeze(0))))  # (batch_size, 1)"
   ]
  },
  {
   "cell_type": "code",
   "execution_count": 24,
   "metadata": {},
   "outputs": [],
   "source": [
    "N_VOCAB = len(TEXT.vocab)\n",
    "EMBEDDING_DIM = 300\n",
    "HIDDEN_DIM = 256\n",
    "OUTPUT_DIM = 1\n",
    "DROPOUT = 0.5\n",
    "PAD_IDX = TEXT.vocab.stoi[TEXT.pad_token]\n",
    "\n",
    "model = RNN(N_VOCAB, EMBEDDING_DIM, HIDDEN_DIM, OUTPUT_DIM, dropout=DROPOUT, pad_idx=PAD_IDX)"
   ]
  },
  {
   "cell_type": "code",
   "execution_count": 25,
   "metadata": {},
   "outputs": [
    {
     "name": "stdout",
     "output_type": "stream",
     "text": [
      "The model has 17720857 trainable parameters\n"
     ]
    }
   ],
   "source": [
    "print(f'The model has {sum(p.numel() for p in model.parameters() if p.requires_grad)} trainable parameters')"
   ]
  },
  {
   "cell_type": "code",
   "execution_count": 26,
   "metadata": {},
   "outputs": [],
   "source": [
    "model.embedding.weight.data.copy_(TEXT.vocab.vectors)\n",
    "\n",
    "UNK_IDX = TEXT.vocab.stoi[TEXT.unk_token]\n",
    "\n",
    "model.embedding.weight.data[UNK_IDX] = torch.zeros(EMBEDDING_DIM)\n",
    "model.embedding.weight.data[PAD_IDX] = torch.zeros(EMBEDDING_DIM)"
   ]
  },
  {
   "cell_type": "code",
   "execution_count": 27,
   "metadata": {},
   "outputs": [],
   "source": [
    "criterion = torch.nn.MSELoss()"
   ]
  },
  {
   "cell_type": "code",
   "execution_count": 28,
   "metadata": {},
   "outputs": [],
   "source": [
    "model = model.to(device)\n",
    "criterion = criterion.to(device)"
   ]
  },
  {
   "cell_type": "code",
   "execution_count": 29,
   "metadata": {},
   "outputs": [],
   "source": [
    "optimizer = torch.optim.Adam(model.parameters())"
   ]
  },
  {
   "cell_type": "code",
   "execution_count": 30,
   "metadata": {},
   "outputs": [],
   "source": [
    "def output_to_pred(output):\n",
    "    return (output * 10).round() / 2"
   ]
  },
  {
   "cell_type": "code",
   "execution_count": 142,
   "metadata": {},
   "outputs": [],
   "source": [
    "def accuracy(preds, y):\n",
    "    correct = (preds == y).float()# convert into float for division \n",
    "    acc = correct.sum() / len(correct)\n",
    "    return acc"
   ]
  },
  {
   "cell_type": "code",
   "execution_count": 32,
   "metadata": {},
   "outputs": [],
   "source": [
    "def train(model, iterator, optimizer, criterion):\n",
    "    epoch_loss = 0\n",
    "    epoch_acc = 0\n",
    "    \n",
    "    model.train()\n",
    "    \n",
    "    for batch in iterator:\n",
    "        optimizer.zero_grad()\n",
    "        padded_sequences, lengths = batch.critique\n",
    "        output = model(padded_sequences, lengths).squeeze(1)\n",
    "        loss = criterion(output, batch.note / 5.)\n",
    "        acc = accuracy(output_to_pred(output), batch.note)\n",
    "        loss.backward()\n",
    "        optimizer.step()\n",
    "        \n",
    "        epoch_loss += loss.item()\n",
    "        epoch_acc += acc.item()\n",
    "      \n",
    "    return epoch_loss / len(iterator), epoch_acc / len(iterator)"
   ]
  },
  {
   "cell_type": "code",
   "execution_count": 33,
   "metadata": {},
   "outputs": [],
   "source": [
    "def evaluate(model, iterator, criterion):\n",
    "    \n",
    "    epoch_loss = 0\n",
    "    epoch_acc = 0\n",
    "    \n",
    "    model.eval()\n",
    "    \n",
    "    with torch.no_grad():\n",
    "    \n",
    "        for batch in iterator:\n",
    "            padded_sequences, lengths = batch.critique\n",
    "            output = model(padded_sequences, lengths).squeeze(1)\n",
    "            loss = criterion(output, batch.note / 5.)\n",
    "            acc = accuracy(output_to_pred(output), batch.note)\n",
    "\n",
    "            epoch_loss += loss.item()\n",
    "            epoch_acc += acc.item()\n",
    "        \n",
    "    return epoch_loss / len(iterator), epoch_acc / len(iterator)"
   ]
  },
  {
   "cell_type": "code",
   "execution_count": 179,
   "metadata": {},
   "outputs": [
    {
     "name": "stdout",
     "output_type": "stream",
     "text": [
      "Epoch: 01 | Epoch Time: 15.98s\n",
      "\tTrain Loss: 0.000 | Train Acc: 99.10%\n",
      "\t Val. Loss: 0.034 |  Val. Acc: 39.71%\n",
      "Epoch: 02 | Epoch Time: 15.70s\n",
      "\tTrain Loss: 0.000 | Train Acc: 98.94%\n",
      "\t Val. Loss: 0.033 |  Val. Acc: 40.63%\n",
      "Epoch: 03 | Epoch Time: 15.66s\n",
      "\tTrain Loss: 0.000 | Train Acc: 98.88%\n",
      "\t Val. Loss: 0.034 |  Val. Acc: 40.43%\n",
      "Epoch: 04 | Epoch Time: 15.75s\n",
      "\tTrain Loss: 0.000 | Train Acc: 99.22%\n",
      "\t Val. Loss: 0.033 |  Val. Acc: 40.62%\n",
      "Epoch: 05 | Epoch Time: 15.61s\n",
      "\tTrain Loss: 0.000 | Train Acc: 99.23%\n",
      "\t Val. Loss: 0.033 |  Val. Acc: 40.30%\n",
      "Epoch: 06 | Epoch Time: 15.58s\n",
      "\tTrain Loss: 0.000 | Train Acc: 99.23%\n",
      "\t Val. Loss: 0.034 |  Val. Acc: 40.85%\n",
      "Epoch: 07 | Epoch Time: 15.52s\n",
      "\tTrain Loss: 0.000 | Train Acc: 99.27%\n",
      "\t Val. Loss: 0.033 |  Val. Acc: 41.77%\n",
      "Epoch: 08 | Epoch Time: 15.59s\n",
      "\tTrain Loss: 0.000 | Train Acc: 99.04%\n",
      "\t Val. Loss: 0.033 |  Val. Acc: 40.90%\n",
      "Epoch: 09 | Epoch Time: 15.48s\n",
      "\tTrain Loss: 0.000 | Train Acc: 99.14%\n",
      "\t Val. Loss: 0.034 |  Val. Acc: 41.07%\n",
      "Epoch: 10 | Epoch Time: 15.49s\n",
      "\tTrain Loss: 0.000 | Train Acc: 99.23%\n",
      "\t Val. Loss: 0.034 |  Val. Acc: 41.01%\n",
      "Total time: 156.35s\n"
     ]
    },
    {
     "data": {
      "text/plain": [
       "156.3513687650011"
      ]
     },
     "execution_count": 179,
     "metadata": {},
     "output_type": "execute_result"
    }
   ],
   "source": [
    "N_EPOCHS = 10\n",
    "\n",
    "best_valid_loss = float('inf')\n",
    "\n",
    "clock = simpleclock.Clock.started()\n",
    "\n",
    "for epoch in range(N_EPOCHS):\n",
    "\n",
    "    clock.elapsed_since_start.call()  # meh\n",
    "    \n",
    "    train_loss, train_acc = train(model, iter_train, optimizer, criterion)\n",
    "    valid_loss, valid_acc = evaluate(model, iter_valid, criterion)\n",
    "    \n",
    "    if valid_loss < best_valid_loss:\n",
    "        best_valid_loss = valid_loss\n",
    "        torch.save(model.state_dict(), 'best_model.pt')\n",
    "    \n",
    "    clock.elapsed_since_last_call.print(f\"Epoch: {epoch+1:02} | Epoch Time\")\n",
    "    print(f'\\tTrain Loss: {train_loss:.3f} | Train Acc: {train_acc*100:.2f}%')\n",
    "    print(f'\\t Val. Loss: {valid_loss:.3f} |  Val. Acc: {valid_acc*100:.2f}%')\n",
    "clock.elapsed_since_start.print(\"Total time\")"
   ]
  },
  {
   "cell_type": "markdown",
   "metadata": {},
   "source": [
    "## Peeking"
   ]
  },
  {
   "cell_type": "code",
   "execution_count": 35,
   "metadata": {},
   "outputs": [],
   "source": [
    "import spacy\n",
    "\n",
    "nlp = spacy.load('fr_core_news_sm')"
   ]
  },
  {
   "cell_type": "code",
   "execution_count": 352,
   "metadata": {},
   "outputs": [],
   "source": [
    "def predict_tokens(tokens, model):\n",
    "    model.eval()\n",
    "    idxs = [TEXT.vocab.stoi[t] for t in tokens]\n",
    "    inp = torch.LongTensor(idxs).reshape(-1, 1).to(device)\n",
    "    output = output_to_pred(model(inp, torch.LongTensor([len(tokens)])))\n",
    "    return output.item()\n",
    "\n",
    "\n",
    "def predict(sentence, model):\n",
    "    return predict_tokens(list(map(str, nlp.tokenizer(sentence))), model)"
   ]
  },
  {
   "cell_type": "code",
   "execution_count": 39,
   "metadata": {},
   "outputs": [
    {
     "data": {
      "text/plain": [
       "<All keys matched successfully>"
      ]
     },
     "execution_count": 39,
     "metadata": {},
     "output_type": "execute_result"
    }
   ],
   "source": [
    "model.load_state_dict(torch.load('best_model.pt'))"
   ]
  },
  {
   "cell_type": "code",
   "execution_count": 356,
   "metadata": {},
   "outputs": [
    {
     "data": {
      "text/plain": [
       "(2.0, 4.0)"
      ]
     },
     "execution_count": 356,
     "metadata": {},
     "output_type": "execute_result"
    }
   ],
   "source": [
    "predict(\"Du temps perdu.\", model), \\\n",
    "predict(\"Un très bon film, à voir avec toute la famille.\", model)"
   ]
  },
  {
   "cell_type": "code",
   "execution_count": 364,
   "metadata": {},
   "outputs": [
    {
     "name": "stdout",
     "output_type": "stream",
     "text": [
      "La monstrueuse énergie de son [ Na Hong - Jin ] film se transmet littéralement au spectateur , qui en ressort à bout de souffle mais content , comme après un marathon .\n",
      "true) 4.0 - 4.0 (pred\n",
      "Etienne Chatilez ( … ) possède un vrai talent : l' art des signes , genre dans lequel il excelle . N ° 404 - février 1988\n",
      "true) 5.0 - 4.5 (pred\n",
      "Si la partie comédie à sketchs est fort bien enlevée , pour l' aventure , ça traîne un peu . Mais , au final , on se marre bien !\n",
      "true) 2.0 - 3.0 (pred\n"
     ]
    }
   ],
   "source": [
    "for example in random.sample(list(data_test), 3):\n",
    "    tokens, note = example.critique, float(example.note)\n",
    "    print(\" \".join(tokens))\n",
    "    print(f\"true) {note} - {predict_tokens(tokens, model)} (pred\")"
   ]
  },
  {
   "cell_type": "markdown",
   "metadata": {},
   "source": [
    "## Testing predictions on extremal marks"
   ]
  },
  {
   "cell_type": "markdown",
   "metadata": {},
   "source": [
    "Is the model really doing bad if it predicts a 4.5 instead of a 5 ? There are at least two ways to allow for forgivable divergence with the test data :\n",
    "* decrease notation's granularity, e.g. tranform the marks into good/bad, or good/bad/neutral.\n",
    "* consider a prediction correct if it belongs to a 'small' interval containing the true value."
   ]
  },
  {
   "cell_type": "markdown",
   "metadata": {},
   "source": [
    "### Good/Neutral/Bad prediction"
   ]
  },
  {
   "cell_type": "code",
   "execution_count": 300,
   "metadata": {},
   "outputs": [],
   "source": [
    "def mark_to_3_way(mark_tensor, bad_treshold=2, good_treshold=3.5):\n",
    "    \"\"\"np array with values: 0: bad, 1: neutral, 2: good\"\"\"\n",
    "    return np.digitize(mark_tensor.cpu().detach().numpy(), [bad_treshold, good_treshold])\n",
    "\n",
    "def pred_to_3_way(pred_tensor, bad_treshold=0.4, good_treshold=0.651):\n",
    "    \"\"\"np array with values: 0: bad, 1: neutral, 2: good\"\"\"\n",
    "    return np.digitize(pred_tensor.cpu().detach().numpy(), [bad_treshold, good_treshold])\n",
    "    \n",
    "def eval_accuracy_3w(model, iterator):\n",
    "    n_examples = 0\n",
    "    n_success = 0\n",
    "    for batch in iterator:\n",
    "        padded_sequences, lengths = batch.critique\n",
    "        predictions = model(padded_sequences, lengths).squeeze(1)\n",
    "        n_examples += len(batch)\n",
    "        n_success += sum(pred_to_3_way(predictions) == mark_to_3_way(batch.note))\n",
    "    return n_success / n_examples\n",
    "\n",
    "def classif_report_3w(model, iterator):\n",
    "    def preds_and_trues_to_array(predictions, true_notes):\n",
    "        return np.concatenate([mark_to_3_way(true_notes).reshape(-1, 1),\n",
    "                               pred_to_3_way(predictions).reshape(-1, 1)], axis=1)\n",
    "    \n",
    "    array = None\n",
    "    for batch in iterator:\n",
    "        padded_sequences, lengths = batch.critique\n",
    "        predictions = model(padded_sequences, lengths).squeeze(1)\n",
    "        \n",
    "        if array is None:\n",
    "            array = preds_and_trues_to_array(predictions, batch.note)\n",
    "        else:\n",
    "            array = np.concatenate([array,\n",
    "                                    preds_and_trues_to_array(predictions, batch.note)], axis=0)\n",
    "    print(sklearn.metrics.classification_report(array[:, 0],\n",
    "                                                array[:, 1],\n",
    "                                                labels=[0, 1, 2],\n",
    "                                                target_names=[\"bad\", \"neutral\", \"good\"]))"
   ]
  },
  {
   "cell_type": "code",
   "execution_count": 301,
   "metadata": {},
   "outputs": [
    {
     "name": "stdout",
     "output_type": "stream",
     "text": [
      "0.6627106359847799\n",
      "              precision    recall  f1-score   support\n",
      "\n",
      "         bad       0.38      0.38      0.38      1743\n",
      "     neutral       0.64      0.62      0.63      9669\n",
      "        good       0.73      0.75      0.74     10664\n",
      "\n",
      "    accuracy                           0.66     22076\n",
      "   macro avg       0.58      0.58      0.58     22076\n",
      "weighted avg       0.66      0.66      0.66     22076\n",
      "\n"
     ]
    }
   ],
   "source": [
    "iterator = iter_test\n",
    "\n",
    "print(eval_accuracy_3w(model, iterator))\n",
    "classif_report_3w(model, iterator)\n"
   ]
  },
  {
   "cell_type": "markdown",
   "metadata": {},
   "source": [
    "### Fuzzy accuracy"
   ]
  },
  {
   "cell_type": "code",
   "execution_count": 348,
   "metadata": {},
   "outputs": [],
   "source": [
    "def eval_accuracy_fuzzy(model, iterator, fuzziness=.5):\n",
    "    n_examples = 0.\n",
    "    n_success = 0.\n",
    "    for batch in iterator:\n",
    "        padded_sequences, lengths = batch.critique\n",
    "        predictions = model(padded_sequences, lengths).squeeze(1)\n",
    "        n_examples += len(batch)\n",
    "        n_success += sum(torch.abs(output_to_pred(predictions) - batch.note) <= fuzziness).item()\n",
    "    return n_success / n_examples"
   ]
  },
  {
   "cell_type": "code",
   "execution_count": 349,
   "metadata": {},
   "outputs": [
    {
     "name": "stdout",
     "output_type": "stream",
     "text": [
      "0.8902427976082624\n"
     ]
    }
   ],
   "source": [
    "print(eval_accuracy_fuzzy(model, iter_test, fuzziness = 1))"
   ]
  }
 ],
 "metadata": {
  "kernelspec": {
   "display_name": "Python 3",
   "language": "python",
   "name": "python3"
  },
  "language_info": {
   "codemirror_mode": {
    "name": "ipython",
    "version": 3
   },
   "file_extension": ".py",
   "mimetype": "text/x-python",
   "name": "python",
   "nbconvert_exporter": "python",
   "pygments_lexer": "ipython3",
   "version": "3.6.9"
  }
 },
 "nbformat": 4,
 "nbformat_minor": 2
}
