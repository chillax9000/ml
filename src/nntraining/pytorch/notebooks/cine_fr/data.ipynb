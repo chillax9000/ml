{
 "cells": [
  {
   "cell_type": "code",
   "execution_count": 1,
   "metadata": {},
   "outputs": [],
   "source": [
    "import pandas as pd\n",
    "import os"
   ]
  },
  {
   "cell_type": "code",
   "execution_count": 2,
   "metadata": {},
   "outputs": [],
   "source": [
    "import random\n",
    "import matplotlib.pyplot as plt\n",
    "import collections\n",
    "import numpy as np\n",
    "import operator\n",
    "import simpleclock"
   ]
  },
  {
   "cell_type": "code",
   "execution_count": 3,
   "metadata": {},
   "outputs": [],
   "source": [
    "data_path = os.path.join(os.path.abspath(''), \"data_cine.csv\")\n",
    "cleaned_data_path = os.path.join(os.path.abspath(''), \"data_cine_cleaned.csv\")"
   ]
  },
  {
   "cell_type": "code",
   "execution_count": 4,
   "metadata": {},
   "outputs": [],
   "source": [
    "df_all = pd.read_csv(data_path)"
   ]
  },
  {
   "cell_type": "code",
   "execution_count": 5,
   "metadata": {},
   "outputs": [
    {
     "name": "stdout",
     "output_type": "stream",
     "text": [
      "(79958, 4)\n",
      "['id' 'titre' 'note' 'critique']\n"
     ]
    }
   ],
   "source": [
    "print(df_all.shape)\n",
    "print(df_all.columns.values)"
   ]
  },
  {
   "cell_type": "markdown",
   "metadata": {},
   "source": [
    "## preprocessing"
   ]
  },
  {
   "cell_type": "code",
   "execution_count": 6,
   "metadata": {},
   "outputs": [
    {
     "name": "stdout",
     "output_type": "stream",
     "text": [
      "6372 (0.08%) lines removed\n"
     ]
    },
    {
     "name": "stderr",
     "output_type": "stream",
     "text": [
      "/home/cuicui/sources/nn-training/venv/lib/python3.6/site-packages/pandas/core/indexing.py:964: SettingWithCopyWarning: \n",
      "A value is trying to be set on a copy of a slice from a DataFrame.\n",
      "Try using .loc[row_indexer,col_indexer] = value instead\n",
      "\n",
      "See the caveats in the documentation: https://pandas.pydata.org/pandas-docs/stable/user_guide/indexing.html#returning-a-view-versus-a-copy\n",
      "  self.obj[item] = s\n"
     ]
    }
   ],
   "source": [
    "# remove 'empty' reviews (those sending to another website) // to be removed from the DS\n",
    "def is_review_empty(s): \n",
    "    _s = s.lower().replace(\"  \", \" \")\n",
    "    return len(_s.split()) < 16 and any(sub in _s for sub in \n",
    "                                        (\"voir la critique\", \n",
    "                                         \"voir le site\", \n",
    "                                         \"voir sur le site\", \n",
    "                                         \"voir le magazine\",\n",
    "                                         \"voir le point\",\n",
    "                                         \"express.fr\",\n",
    "                                         \"point.fr\",\n",
    "                                         \"studio ciné live\",\n",
    "                                         \"www.\",\n",
    "                                        ))\n",
    "\n",
    "\n",
    "df_ = df_all.loc[~df_all[\"critique\"].apply(is_review_empty)]\n",
    "df_removed = df_all.loc[df_all[\"critique\"].apply(is_review_empty)]\n",
    "empty_reviews = collections.Counter(df_removed[\"critique\"].values)\n",
    "print(f\"{df_removed.shape[0]} ({df_removed.shape[0] / df_all.shape[0]:.2f}%) lines removed\")\n",
    "\n",
    "df_.loc[:, \"critique\"] = df_[\"critique\"].str.strip()\n",
    "\n",
    "df_clean = df_\n",
    "\n",
    "# empty_reviews  # to check"
   ]
  },
  {
   "cell_type": "code",
   "execution_count": 7,
   "metadata": {},
   "outputs": [
    {
     "data": {
      "text/plain": [
       "Counter({6: 37,\n",
       "         5: 52,\n",
       "         4: 30,\n",
       "         10: 9,\n",
       "         8: 23,\n",
       "         12: 3,\n",
       "         7: 22,\n",
       "         1: 5,\n",
       "         9: 14,\n",
       "         3: 7,\n",
       "         2: 12})"
      ]
     },
     "execution_count": 7,
     "metadata": {},
     "output_type": "execute_result"
    }
   ],
   "source": [
    "collections.Counter(map(len, map(str.split, map(str.lower, empty_reviews))))\n",
    "# sorted(set(map(str.lower, empty_reviews)), key=lambda s: len(s.split()), reverse=True)"
   ]
  },
  {
   "cell_type": "code",
   "execution_count": 8,
   "metadata": {},
   "outputs": [],
   "source": [
    "df = df_clean"
   ]
  },
  {
   "cell_type": "code",
   "execution_count": 9,
   "metadata": {},
   "outputs": [],
   "source": [
    "df.to_csv(cleaned_data_path, index=False)"
   ]
  },
  {
   "cell_type": "markdown",
   "metadata": {},
   "source": [
    "## exploration"
   ]
  },
  {
   "cell_type": "code",
   "execution_count": 10,
   "metadata": {},
   "outputs": [
    {
     "data": {
      "text/plain": [
       "'73586 critiques pour 4597 films (16.0 en moy.)'"
      ]
     },
     "execution_count": 10,
     "metadata": {},
     "output_type": "execute_result"
    }
   ],
   "source": [
    "f\"{df.shape[0]} critiques pour {len(set(df.id))} films ({df.shape[0] / len(set(df.id)):.1f} en moy.)\""
   ]
  },
  {
   "cell_type": "code",
   "execution_count": 11,
   "metadata": {},
   "outputs": [
    {
     "name": "stdout",
     "output_type": "stream",
     "text": [
      "L'Ennemi intime : 3.0\n",
      "Siri abuse des effets voyants pour illustrer un scénario lui-même démonstratif. Sans contester l'utilité d'un tel film, on reste donc sur sa faim.\n",
      "\n",
      "Babysitting : 2.0\n",
      "Non seulement cette idée de found footage, reprise de l'américain \"Projet X\", paraît réchauffée, mais aussi elle pâtit d'un dispositif maladroit. Sans parler des velléités à donner dans le trash, contrariées par une tendance aux bons sentiments qui dégoulinent dans le finale familial.\n",
      "\n",
      "The Reader : 3.0\n",
      "S'il n'y a pas grand-chose à redire du point de vue artistique, le fond, en revanche, est plus problématique. Daldry privilégie le drame personnel d'Hanna (...) à la tragédie vécue par les prisonnières qu'elle gardait.\n",
      "\n",
      "The Duke Of Burgundy : 3.0\n",
      "Sous la surface SM, Strickland narre une autre histoire, celle d'un amour poussé à l'extrême pour être sûr qu'il existe encore.\n",
      "\n",
      "Les Trois prochains jours : 4.0\n",
      "En dépit de quelques incohérences et retournements de situation invraisemblables, il parvient à tenir le spectateur en haleine, s'appuyant sur un bon casting.\n",
      "\n"
     ]
    }
   ],
   "source": [
    "for idx, row in df.iloc[random.sample(range(df.shape[0]), 5), :].iterrows():  # or: ... in df.sample(5).iterrows()\n",
    "    print(row.titre, \":\", row.note)\n",
    "    print(row.critique)\n",
    "    print()"
   ]
  },
  {
   "cell_type": "code",
   "execution_count": 12,
   "metadata": {},
   "outputs": [
    {
     "data": {
      "text/plain": [
       "Text(0.5, 1.0, 'nb of words per review')"
      ]
     },
     "execution_count": 12,
     "metadata": {},
     "output_type": "execute_result"
    },
    {
     "data": {
      "image/png": "[encoded data removed]",
      "text/plain": [
       "<Figure size 1152x288 with 2 Axes>"
      ]
     },
     "metadata": {
      "needs_background": "light"
     },
     "output_type": "display_data"
    }
   ],
   "source": [
    "fig, axs = plt.subplots(1, 2, figsize=(16, 4))\n",
    "axs[0].hist(df.note.values, density=True, bins=list(np.arange(1, 6, .5)), align=\"left\")\n",
    "axs[0].set_title(\"marks distribution\")\n",
    "\n",
    "lens = df.critique.apply(lambda s: len(s.split()))\n",
    "axs[1].hist(lens, density=True, bins=range(min(lens), max(lens) + 1))\n",
    "axs[1].set_title(\"nb of words per review\")"
   ]
  },
  {
   "cell_type": "code",
   "execution_count": 13,
   "metadata": {},
   "outputs": [
    {
     "name": "stdout",
     "output_type": "stream",
     "text": [
      "4.0\n",
      "L'histoire devient très vite un prétexte, mais pour une fois, ce n'est pas si grave, tant l'entreprise semble avoir été montée de toute pièce pour nous donner un spectacle total (...) ROCK'N'ROLLA est un bon trip, sans doute exténuant mais purement cinématographique.\n",
      "\n",
      "4.0\n",
      "Drôle, irrévérencieux, cruel (...)\n",
      "\n",
      "4.0\n",
      "(...) notre rocker national réussit le triple exploit de livrer son meilleur film, de passer à la postérité de son vivant et surtout, de permettre au cinéma hexagonal de faire un grand bond en avant en matière de fantaisie et d'imagination.\n",
      "\n",
      "5.0\n",
      "(...) \"L'odyssée de Pi\" surprend par son souffle épique qui le place très vite bien au-dessus de l'attendu film de Noël.\n",
      "\n",
      "3.0\n",
      "Pas d'effort donc, plutôt un univers balisé comme un flipper, avec excitation permanente, réversibilité de tous les instants et surtout, un cadre bien carré qui ne laisse strictement rien passer. (...) A la fois bourrée de fric et avare en prise de risque, cette coquille vide ne se départie jamais d'une certaine arrogance pantouflarde. Et si derrière sa trogne cool, Shrek était un vieux con ?\n",
      "\n"
     ]
    }
   ],
   "source": [
    "for t in df.loc[df.critique.str.contains(\"(...)\", regex=False)].sample(5).itertuples():\n",
    "    print(t.note)\n",
    "    print(t.critique)\n",
    "    print()"
   ]
  }
 ],
 "metadata": {
  "kernelspec": {
   "display_name": "Python 3",
   "language": "python",
   "name": "python3"
  },
  "language_info": {
   "codemirror_mode": {
    "name": "ipython",
    "version": 3
   },
   "file_extension": ".py",
   "mimetype": "text/x-python",
   "name": "python",
   "nbconvert_exporter": "python",
   "pygments_lexer": "ipython3",
   "version": "3.6.9"
  }
 },
 "nbformat": 4,
 "nbformat_minor": 2
}
