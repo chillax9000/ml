{
 "cells": [
  {
   "cell_type": "code",
   "execution_count": null,
   "metadata": {},
   "outputs": [],
   "source": [
    "import pandas as pd\n",
    "import os"
   ]
  },
  {
   "cell_type": "code",
   "execution_count": null,
   "metadata": {},
   "outputs": [],
   "source": [
    "import random\n",
    "import matplotlib.pyplot as plt\n",
    "import collections\n",
    "import numpy as np\n",
    "import operator"
   ]
  },
  {
   "cell_type": "code",
   "execution_count": null,
   "metadata": {},
   "outputs": [],
   "source": [
    "resources_path = os.path.join(os.path.dirname(os.path.abspath('')), \"resources\")\n",
    "data_path = os.path.join(resources_path, \"data_cine.csv\")"
   ]
  },
  {
   "cell_type": "code",
   "execution_count": null,
   "metadata": {},
   "outputs": [],
   "source": [
    "df_all = pd.read_csv(data_path)"
   ]
  },
  {
   "cell_type": "code",
   "execution_count": null,
   "metadata": {},
   "outputs": [],
   "source": [
    "print(df_all.shape)\n",
    "print(df_all.columns.values)"
   ]
  },
  {
   "cell_type": "markdown",
   "metadata": {},
   "source": [
    "## preprocessing"
   ]
  },
  {
   "cell_type": "code",
   "execution_count": null,
   "metadata": {},
   "outputs": [],
   "source": [
    "# remove 'empty' reviews (those sending to another website) // to be removed from the DS\n",
    "def is_review_empty(s): \n",
    "    _s = s.lower().replace(\"  \", \" \")\n",
    "    return len(_s.split()) < 16 and any(sub in _s for sub in \n",
    "                                        (\"voir la critique\", \n",
    "                                         \"voir le site\", \n",
    "                                         \"voir sur le site\", \n",
    "                                         \"voir le magazine\",\n",
    "                                         \"voir le point\",\n",
    "                                         \"express.fr\",\n",
    "                                         \"point.fr\",\n",
    "                                         \"studio ciné live\",\n",
    "                                         \"www.\",\n",
    "                                        ))\n",
    "\n",
    "\n",
    "df_ = df_all.loc[~df_all[\"critique\"].apply(is_review_empty)]\n",
    "df_removed = df_all.loc[df_all[\"critique\"].apply(is_review_empty)]\n",
    "empty_reviews = collections.Counter(df_removed[\"critique\"].values)\n",
    "print(f\"{df_removed.shape[0]} ({df_removed.shape[0] / df_all.shape[0]:.2f}%) lines removed\")\n",
    "\n",
    "df_.loc[:, \"critique\"] = df_[\"critique\"].str.strip()\n",
    "\n",
    "df_clean = df_\n",
    "\n",
    "# empty_reviews  # to check"
   ]
  },
  {
   "cell_type": "code",
   "execution_count": null,
   "metadata": {},
   "outputs": [],
   "source": [
    "collections.Counter(map(len, map(str.split, map(str.lower, empty_reviews))))\n",
    "# sorted(set(map(str.lower, empty_reviews)), key=lambda s: len(s.split()), reverse=True)"
   ]
  },
  {
   "cell_type": "code",
   "execution_count": null,
   "metadata": {},
   "outputs": [],
   "source": [
    "df = df_clean"
   ]
  },
  {
   "cell_type": "markdown",
   "metadata": {},
   "source": [
    "## exploration"
   ]
  },
  {
   "cell_type": "code",
   "execution_count": null,
   "metadata": {},
   "outputs": [],
   "source": [
    "f\"{df.shape[0]} critiques pour {len(set(df.id))} films ({df.shape[0] / len(set(df.id)):.1f} en moy.)\""
   ]
  },
  {
   "cell_type": "code",
   "execution_count": null,
   "metadata": {},
   "outputs": [],
   "source": [
    "for idx, row in df.iloc[random.sample(range(df.shape[0]), 5), :].iterrows():  # or: ... in df.sample(5).iterrows()\n",
    "    print(row.titre, \":\", row.note)\n",
    "    print(row.critique)\n",
    "    print()"
   ]
  },
  {
   "cell_type": "code",
   "execution_count": null,
   "metadata": {},
   "outputs": [],
   "source": [
    "fig, axs = plt.subplots(1, 2, figsize=(16, 4))\n",
    "axs[0].hist(df.note.values, density=True, bins=list(np.arange(1, 6, .5)), align=\"left\")\n",
    "axs[0].set_title(\"marks distribution\")\n",
    "\n",
    "lens = df.critique.apply(lambda s: len(s.split()))\n",
    "axs[1].hist(lens, density=True, bins=range(min(lens), max(lens) + 1))\n",
    "axs[1].set_title(\"nb of words per review\")"
   ]
  },
  {
   "cell_type": "code",
   "execution_count": null,
   "metadata": {},
   "outputs": [],
   "source": [
    "for t in df.loc[df.critique.str.contains(\"(...)\", regex=False)].sample(5).itertuples():\n",
    "    print(t.note)\n",
    "    print(t.critique)\n",
    "    print()"
   ]
  },
  {
   "cell_type": "markdown",
   "metadata": {},
   "source": [
    "## learning"
   ]
  },
  {
   "cell_type": "code",
   "execution_count": null,
   "metadata": {},
   "outputs": [],
   "source": []
  }
 ],
 "metadata": {
  "kernelspec": {
   "display_name": "Python 3",
   "language": "python",
   "name": "python3"
  },
  "language_info": {
   "codemirror_mode": {
    "name": "ipython",
    "version": 3
   },
   "file_extension": ".py",
   "mimetype": "text/x-python",
   "name": "python",
   "nbconvert_exporter": "python",
   "pygments_lexer": "ipython3",
   "version": "3.7.3"
  }
 },
 "nbformat": 4,
 "nbformat_minor": 2
}
